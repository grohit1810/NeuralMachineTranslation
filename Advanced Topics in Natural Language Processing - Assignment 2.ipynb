{
 "cells": [
  {
   "cell_type": "markdown",
   "metadata": {
    "colab_type": "text",
    "id": "BYQt0nUEbAgN"
   },
   "source": [
    "# Neural Machine Translation - Assignment 2\n",
    "\n",
    "In this task, a neural machine translation (NMT) system is developed to translate text from one language into another. For this, italian data is chosen to train the models, and data processing is performed and sequence2sequence neural model with attention and without attention is trained and tested. BLEU score is used evaluation metric.\n"
   ]
  },
  {
   "cell_type": "markdown",
   "metadata": {
    "colab_type": "text",
    "id": "d33hukl0w-Nh"
   },
   "source": [
    "## Section 1- Data Collection and Preprocessing \n",
    "\n",
    "\n",
    "---\n"
   ]
  },
  {
   "cell_type": "markdown",
   "metadata": {
    "colab_type": "text",
    "id": "uAFJXKQaeN-d"
   },
   "source": [
    "**Task 1**\n",
    "\n",
    "---\n",
    "\n",
    "There are few datasets to train an NMT system available from Tatoeba Project (http://www.manythings.org/anki/) or OPUS project (http://opus.nlpl.eu/).\n",
    "\n",
    "*  Download a language pair (preferably European language) and **extract** the file(s) and upload it to CoLab\n",
    "*  Create a list of lines by splitting the text file at every occurrence accordingly, i.e. source and target language and remove copyright information\n",
    "*  Print number of sentences\n",
    "*  Limit the number of sentences to 10,000 lines (but more than 5,000 lines)\n",
    "*  Split the data into train and test [You can split validation set here or while training use Keras validation_split option]\n",
    "*  Print 100th sentence in original script[ not unicode] for source and target language"
   ]
  },
  {
   "cell_type": "markdown",
   "metadata": {},
   "source": [
    "###### Imports"
   ]
  },
  {
   "cell_type": "code",
   "execution_count": 1,
   "metadata": {
    "colab": {},
    "colab_type": "code",
    "id": "9U9BaH3ozUGf"
   },
   "outputs": [
    {
     "name": "stderr",
     "output_type": "stream",
     "text": [
      "Using TensorFlow backend.\n"
     ]
    }
   ],
   "source": [
    "#imports\n",
    "import os, sys\n",
    "import string,re\n",
    "import numpy as np\n",
    "import unicodedata\n",
    "from keras.models import Model\n",
    "from keras.preprocessing.text import Tokenizer\n",
    "from keras.preprocessing.sequence import pad_sequences\n",
    "from keras.utils import to_categorical\n",
    "from keras.layers import Input, LSTM, GRU, Dense, Embedding, Bidirectional, RepeatVector, Concatenate, Activation, Dot, Lambda\n",
    "import keras.backend as K"
   ]
  },
  {
   "cell_type": "markdown",
   "metadata": {},
   "source": [
    "###### Read 10000 lines of the file ita.txt"
   ]
  },
  {
   "cell_type": "code",
   "execution_count": 2,
   "metadata": {},
   "outputs": [],
   "source": [
    "#initialize\n",
    "BATCH_SIZE = 64  # Batch size used for training.\n",
    "EPOCHS = 20  # Number of epochs for training.\n",
    "LATENT_DIM = 256  # Latent dimension of LSTM model.\n",
    "NUM_SAMPLES = 10000  # Number sentences to extract from file.\n",
    "MAX_NUM_WORDS = 20000\n",
    "EMBEDDING_DIM = 100 # number of dimensions used in the embedding(glove embeddings) \n",
    "\n",
    "file = open(\"ita.txt\", encoding='utf-8')\n",
    "count = 0\n",
    "sample = []\n",
    "lines = []\n",
    "for line in file:\n",
    "    if '\\t' not in line:\n",
    "        continue\n",
    "    input_text, translation, *rest = line.rstrip().split('\\t')\n",
    "    input_text, translation = input_text.strip(), translation.strip()\n",
    "    if(len(input_text.split()) > 4 and input_text not in sample):\n",
    "        lines.append([input_text,translation])\n",
    "        sample.append(input_text)\n",
    "        count+=1\n",
    "    if count == NUM_SAMPLES :\n",
    "        break\n"
   ]
  },
  {
   "cell_type": "code",
   "execution_count": 3,
   "metadata": {
    "colab": {},
    "colab_type": "code",
    "id": "7NkJaeq8zg5H"
   },
   "outputs": [
    {
     "name": "stdout",
     "output_type": "stream",
     "text": [
      "10000\n",
      "['I want to eat it.', 'Voglio mangiarlo.']\n"
     ]
    }
   ],
   "source": [
    "print(len(lines))\n",
    "print(lines[100])"
   ]
  },
  {
   "cell_type": "markdown",
   "metadata": {
    "colab_type": "text",
    "id": "x63IEWjUxkJj"
   },
   "source": [
    "**Task 2** \n",
    "\n",
    "---\n",
    "\n",
    "* Add '<bof\\>' to denote beginning of sentence and '<eos\\>' to denote the end of the sentence to each target line.\n",
    "* Preprocess (word tokenisation, lowercasing) the text."
   ]
  },
  {
   "cell_type": "markdown",
   "metadata": {},
   "source": [
    "###### Pre processing the lines of the file in the target and source language.<br>\n",
    "Add '<bof\\>' to the beginning of the line in the target and add '<eos\\>' to the end of the line in the target. "
   ]
  },
  {
   "cell_type": "code",
   "execution_count": 4,
   "metadata": {
    "colab": {},
    "colab_type": "code",
    "id": "pmNr8gnzfCeS"
   },
   "outputs": [],
   "source": [
    "#pre processing\n",
    "input_texts = [] # sentence line in source language\n",
    "target_texts = [] # sentence line in target language\n",
    "target_texts_inputs = [] # sentence line will be used as input text for decoder model\n",
    "\n",
    "def unicode_to_ascii(s):\n",
    "    return ''.join(c for c in unicodedata.normalize('NFD', s)\n",
    "        if unicodedata.category(c) != 'Mn')\n",
    "\n",
    "# Reference:- Tensorflow nmt preprocessing\n",
    "def preprocess_sentence(line):\n",
    "    line = unicode_to_ascii(line.lower().strip())\n",
    "    # creating a space between a word and the punctuation following it\n",
    "    # eg: \"he is a boy.\" => \"he is a boy .\"\n",
    "    line = re.sub(r\"([?.!,])\", r\" \\1 \", line)\n",
    "    # replace extra spaces from a sentence to a single space\n",
    "    line = re.sub(r'[\" \"]+', \" \", line) \n",
    "    # replacing everything with space except (a-z, A-Z, \".\", \"?\", \"!\", \",\")\n",
    "    line = re.sub(r\"[^a-zA-Z?.!,]+\", \" \", line)\n",
    "    line = line.strip()\n",
    "    return line\n",
    "\n",
    "for line in lines:\n",
    "    input_text,translation = line\n",
    "    input_text,translation = preprocess_sentence(input_text), preprocess_sentence(translation)\n",
    "    target_text = translation + ' <eos>'\n",
    "    target_text_input = '<bof> ' + translation\n",
    "    input_texts.append(input_text)\n",
    "    target_texts.append(target_text)\n",
    "    target_texts_inputs.append(target_text_input)\n"
   ]
  },
  {
   "cell_type": "code",
   "execution_count": 5,
   "metadata": {},
   "outputs": [],
   "source": [
    "source_vocab = []\n",
    "target_vocab = []\n",
    "\n",
    "len1 = 0 \n",
    "len2 = 0\n",
    "for input_line in input_texts:\n",
    "    if(len(input_line.split())>len1):\n",
    "        len1 = len(input_line.split())\n",
    "    for word in input_line.split():\n",
    "        source_vocab.append(word)\n",
    "        \n",
    "for target_line in target_texts:\n",
    "    if(len(target_line.split())>len2):\n",
    "        len2 = len(input_line.split())\n",
    "    for word in target_line.split():\n",
    "        target_vocab.append(word)\n",
    "        \n",
    "source_vocab, target_vocab = list(set(source_vocab)), list(set(target_vocab))\n"
   ]
  },
  {
   "cell_type": "code",
   "execution_count": 6,
   "metadata": {
    "colab": {},
    "colab_type": "code",
    "id": "x4-mCmoMxAd0"
   },
   "outputs": [
    {
     "name": "stdout",
     "output_type": "stream",
     "text": [
      "Number of samples: 10000\n",
      "Number of unique source language tokens: 2355\n",
      "Number of unique target language tokens: 3842\n",
      "Max sequence length of source language: 9\n",
      "Max sequence length of target language: 6\n",
      "Source Vocabulary ['front', 'hardly', 'popular', 'bloomer', 'tiger', 'figured', 'yesterday', 'mary', 'lift', 'station', 'passed', 'opener', 'pass', 'rainy', 'careful', 'strong', 'bossy', 'zoo', 'steam', 'photo', 'upside', 'cleaned', 'tub', 'young', 'playing', 'moron', 'please', 'rely', 'useless', 'likable', 'struck', 'wealth', 'bronze', 'fat', 'getting', 'weight', 'lake', 'rowboat', 'tactful', 'ruin', 'store', 'murder', 'terrible', 'favor', 'camp', 'elegant', 'kendo', 'pigged', 'waiter', 'pen', 'cards', 'cannot', 'survive', 'sixty', 'scream', 'buy', 'pianist', 'glad', 'call', 'lean', 'sister', 'city', 'less', 'employed', 'issue', 'tomorrow', 'wood', 'bite', 'massage', 'hand', 'plus', 'ghost', 'social', 'bed', 'almost', 'by', 'pony', 'roads', 'somehow', 'pray', 'curious', 'pack', 'neat', 'habit', 'ought', 'used', 'cab', 'fossil', 'stressful', 'line', 'muscle', 'mp', 'took', 'both', 'beauty', 'charm', 'kissing', 'karate', 'taste', 'feed', 'stroke', 'drives', 'fever', 'desk', 'hobbies', 'bank', 'with', 'sons', 'up', 'sold', 'ham', 'polite', 'trophy', 'cancer', 'flabby', 'wins', 'roast', 'drank', 'visit', 'least', 'ask', 'worker', 'tie', 'vain', 'harm', 'allowed', 'lose', 'broke', 'stayed', 'full', 'grade', 'sing', 'name', 'step', 'leads', 'biting', 'cute', 'bassist', 'guys', 'scout', 'time', 'meat', 'spot', 'shot', 'eye', 'sending', 'tuna', 'church', 'easy', 'untidy', 'seems', 'tells', 'calm', 'leaving', 'sleepy', 'mother', 'thankful', 'moment', 'ignored', 'think', 'my', 'lady', 'do', 'impress', 'bit', 'again', 'crush', 'braver', 'us', 'salt', 'reasons', 'trash', 'rights', 'hook', 'splendid', 'weekend', 'loudly', 'note', 'deny', 'ashamed', 'crime', 'squid', 'optimistic', 'handed', 'through', 'hospital', 'ok', 'party', 'c', 'peace', 'idiot', 'shallow', 'menu', 'player', 'scar', 'jealous', 'window', 's', 'pillow', 'many', 'unsung', 'five', 'gate', 'seat', 'allergy', 'bribe', 'chipped', 'message', 'yells', 'bitter', 'laughing', 'says', 'miss', 'knew', 'slob', 'piano', 'engine', 'required', 'gummy', 'rested', 'started', 'beaver', 'anyone', 'nightmare', 'deserve', 'prepared', 'speed', 'obvious', 'paid', 'pond', 'wait', 'box', 'silver', 'taught', 'film', 'smoker', 'kisser', 'advice', 'tamed', 'tax', 'slip', 'college', 'honey', 'hadn', 'card', 'beef', 'picky', 'hitting', 'die', 'girls', 'rarely', 'french', 'glum', 'fact', 'special', 'a', 'mess', 'jerk', 'suey', 'picnic', 'dike', 'dared', 'how', 'mean', 'saint', 'pistol', 'trailer', 'agreed', 'faxed', 'cousins', 'escort', 'reason', 'tin', 'greedy', 'owner', 'reader', 'america', 'blown', 'ease', 'arabic', 'd', 'wooden', 'helpful', 'wisdom', 'cage', 'cold', 'grow', 'action', 'chop', 'shoes', 'awful', 'fond', 'drummer', 'theft', 'eleven', 'evening', 'smiling', 'remind', 'prom', 'rude', 'walk', 'couch', 'takes', 'weapon', 'more', 'hang', 'than', 'cia', 'thanks', 'usb', 'frogs', 'medal', 'faster', 'able', 'catalog', 'gang', 'hunting', 'chosen', 'loves', 'appetite', 'eggs', 'moody', 'theater', 'dry', 'pigsty', 'assume', 'aid', 'vip', 'pie', 'permit', 'sell', 'golfer', 'ship', 'dirty', 'partner', 'intense', 'inside', 'agent', 'feel', 'show', 'join', 'pork', 'seconds', 'indebted', 'cup', 'seem', 'not', 'check', 'clever', 'foot', 'won', 'tom', 'sounds', 'guts', 'kept', 'spicy', 'sore', 'tissue', 'thinks', 'wonderful', 'three', 'minute', 'safe', 'low', 'dare', 'nickname', 'noise', 'vase', 'salary', 'earned', 'diet', 'chest', 'tell', 'gets', 'spirits', 'sang', 'washing', 'even', 'bait', 'blow', 'voting', 'dried', 'sight', 'blanket', 'trust', 'search', 'unlucky', 'year', 'use', 'told', 'lying', 'copy', 'medium', 'proud', 'younger', 'order', 'trend', 'forced', 'movie', 'slice', 'boots', 'track', 'either', 'harsh', 'speak', 'seal', 'energy', 'value', 'faq', 'face', 'surprise', 'concern', 'clumsy', 'dove', 'inform', 'foster', 'darts', 'sissy', 'free', 'pool', 'any', 'jumped', 'spoken', 'killing', 'hour', 'wear', 'hello', 'opinion', 'wealthy', 'stilts', 'thank', 'handgun', 'neck', 'right', 'kilos', 'danger', 'curtain', 'rule', 'support', 'error', 'music', 'ruler', 'promotion', 'policy', 'thinker', 'addict', 'sock', 'house', 'hectic', 'here', 'agnostic', 'engineer', 'plastic', 'helped', 'apt', 'didn', 'salad', 'wild', 'woman', 'watching', 'each', 'very', 'gun', 'ohio', 'fooled', 'plane', 'larger', 'bmw', 'bird', 'magazine', 'goes', 'reminded', 'perished', 'put', 'sofa', 'informed', 'heart', 'awesome', 'critical', 'tests', 'jet', 'jokes', 'jury', 'alibi', 'but', 'grader', 'boss', 'model', 'ink', 'old', 'hid', 'truth', 'vet', 'm', 'total', 'nosy', 'funny', 're', 'little', 'mammal', 'part', 'ideas', 'person', 'aggressive', 'legs', 'maze', 'excited', 'missed', 'ahead', 'tennis', 'good', 'choose', 'trapped', 'boy', 'sundays', 'history', 'panic', 'waiting', 'always', 'bang', 'hours', 'earth', 'burn', 'losing', 'first', 'butter', 'laid', 'question', 'laugh', 'korea', 'hotel', 'joy', 'nor', 'swimming', 'soul', 'bread', 'bargain', 'closer', 'heat', 'charming', 'avid', 'leak', 'iron', 'guard', 'wedding', 'see', 'knife', 'country', 'rent', 'skates', 'operation', 'club', 'freedom', 'none', 'play', 'printer', 'plugged', 'turn', 'found', 'unable', 'salesman', 'joke', 'can', 'coming', 'banana', 'bring', 'food', 'neither', 'gentleman', 'banker', 'answer', 'data', 'ages', 'shut', 'way', 'prenup', 'aren', 'talks', 'without', 'aim', 'past', 'purse', 'rice', 'had', 'chair', 'lantern', '.', 'nicer', 'behind', 'chain', 'rain', 'ties', 'rome', 'travel', 'writing', 'that', 'pity', 'rescue', 'talking', 'languages', 'gone', 'vouch', 'steps', 'bad', 'touch', 'chat', 'doing', 'cleft', 'weeks', 'escape', 'loser', 'relied', 'brad', 'saw', 'appears', 'while', 'weird', 'tokyo', 'trap', 'tyson', 'bar', 'abroad', 'maybe', 'chef', 'ability', 'suppose', 'get', 'misses', 'knees', 'receipt', 'tickets', 'nurse', 'gladly', 'obey', 'awake', 'today', 'wrong', 'joking', 'enjoyed', 'avoid', 'quickly', 'knows', 'mini', 'minutes', 'king', 'circle', 'skip', 'leg', 'lucky', 'mowing', 'like', 'guide', 'thick', 'hear', 'coward', 'tip', 'best', 'worry', 'lots', 'painting', 'repay', 'circus', 'quit', 'prisoner', 'vacant', 'sun', 'broom', 'swear', 'martyr', 'likely', 'october', 'dive', 'meal', 'ebay', 'people', 'on', 'smiled', 'cane', 'creeps', 'teeth', 'classy', 'hollywood', 'tidy', 'gander', 'flowers', 'are', 'cry', 'days', 'bride', 'steal', 'client', 'easily', 'finally', 'dj', 'football', 'west', 'point', 'speaks', 'makes', 'evil', 'innocent', 'cicada', 'case', 'pattern', 'may', 'damp', 'raise', 'end', 'private', 'hairy', 'stingy', 'toys', 'lawyer', 'scarf', 'hole', 'already', 'costs', 'oldest', 'amoeba', 'long', 'eating', 'couple', 'throw', 'pet', 'bunch', 'also', 'spy', 'green', 'usually', 'surprised', 'levee', 'warn', 'react', 'blinded', 'basement', 'monday', 'another', 'trance', 'spell', 'land', 'self', 'soccer', 'heard', 'frying', 'beautiful', 'door', 'debate', 'eyes', 'slim', 'vague', 'looked', 'gum', 'played', 'aware', 'contract', 'payday', 'sincere', 'body', 'break', 'close', 'clerk', 'borrow', 'unkind', 'offer', 'canada', 'was', 'hey', 'vacancy', 'thorough', 'about', 'june', 'student', 'fine', 'invited', 'silly', 'curb', 'father', 'slave', 'visa', 'hated', 'fork', 'twins', 'tough', 'needs', 'watch', 'bright', 'rip', 'relief', 'bedroom', 'huge', 'touched', 'things', 'bald', 'shook', 'pulling', 'month', 'blame', 'warrant', 'badly', 'drove', 'plenty', 'spinach', 'lip', 'correct', 'selfish', 'fame', 'big', 'cat', 'waving', 'built', 'badge', 'beach', 'lend', 'grumpy', 'buses', 'price', 'save', 'pizza', 'smile', 'wagon', 'act', 'brother', 'sharp', 'brain', 'busy', 'seldom', 'war', 'man', 'afford', 'beat', 'coffee', 'barking', 'working', 'swims', 'respect', 'depends', 'blue', 'argue', 'coach', 'air', 'orange', 'sexy', 'you', 'wanted', 'hungry', 'hero', 'someplace', 'twin', 'lamp', 'when', 'it', 'share', 'skinny', 'remains', 'speaker', 'hate', 'navy', 'named', 'ill', 'tent', 'try', 'castle', 'oranges', 'as', 'sorry', 'fired', 'off', 'concert', 'did', 'feels', 'patient', 'give', 'forget', 'just', 'blew', 'dancer', 'sugar', 'howling', 'phone', 'spoke', 'works', 'clue', 'nun', 'head', 'pitt', 'harp', 'chaotic', 'marry', 'fall', 'vomit', 'boxer', 'gives', 'coal', 'slot', 'doubt', 'cops', 'nose', 'them', 'obese', 'learned', 'fence', 'friend', 'finish', 'novels', 'mad', 'breakfast', 'around', 'arm', 'unfit', 'rest', 'solid', 'six', 'luck', 'bigger', 'fixing', 'trouble', 'clear', 'want', 'every', 'song', 'pardon', 'mood', 'sign', 'team', 'along', 'spotted', 'ufos', 'bush', 'prudent', 'drug', 'health', 'sandwich', 'scene', 'camper', 'fan', 'suspect', 'tipsy', 'agree', 'tuner', 'garden', 'catch', 'soup', 'timetable', 'weak', 'high', 'god', 'nap', 'must', 'guitar', 'teach', 'repair', 'known', 'dam', 'chance', 'lazy', 'raised', 'airport', 'computer', 'donut', 'involved', 'toothache', 'exactly', 'brave', 'taking', 'income', 'foreign', 'worse', 'sank', 'slept', 'loud', 'enjoy', 'hates', 'clock', 'paper', 'britain', 'cars', 'actually', 'germany', 'fix', 'sting', 'cumin', 'italy', 'yoga', 'dock', ',', 'jeans', 'pretty', 'barks', 'match', 'brown', 'bicycle', 'pig', 'soon', 'summer', 'speaking', 'criminal', 'these', 'dance', 'boston', 'studying', 'come', 'risky', 'amusing', 'she', 'chopped', 'favors', 'difference', 'american', 'nine', 'runner', 'animal', 'promises', 'whatever', 'nowhere', 'blind', 'extend', 'red', 'invite', 'white', 'secrets', 'remained', 'patrol', 'seven', 'cool', 'program', 'wit', 'magic', 'naive', 'wash', 'advise', 'trip', 'stand', 'timid', 'yours', 'relaxed', 'grew', 'pears', 'cds', 'certain', 'world', 'mission', 'teenage', 'bench', 'digging', 'paris', 'friends', 'thirty', 'pay', 'stiff', 'chores', 'teachers', 'comes', 'egg', 'win', 'yard', 'water', 'late', 'born', 'smoke', 'stamps', 'kid', 'count', 'mom', 'has', 'counted', 'likes', 'pieces', 'star', 'asked', 'we', 'wind', 'tow', 'to', 'shoe', 'nothing', 'crybaby', 'well', 'rope', 'hammer', 'nobody', 'retire', 'problem', 'arrived', 'toes', 'brought', 'serious', 'office', 'lousy', 'attic', 'diary', 'spare', 'cried', 'trusts', 'shorter', 'acted', 'ago', 'charge', 'rules', 'kitchen', 'fresh', 'feet', 'accident', 'acts', 'tease', 'rains', 'flat', 'dinner', 'mask', 'eat', 'came', 'japanese', 'tallest', 'planned', 'tourist', 'carpet', 'crack', 'harder', 'smell', 'add', 'into', 'cranky', 'husband', 'painter', 'wore', 'drill', 'stuck', 'let', 'explain', 'nature', 'warning', 'karin', 'weighs', 'sent', 'test', 'raft', 'fifty', 'deaf', 'sky', 'shovel', 'milk', 'dolphin', 'hobby', 'swim', 'trick', 'glasses', 'caesar', 'wallet', 'loved', 'stole', 'hall', 'belongs', 'jump', 'goal', 'mt', 'bills', 'checked', 'mine', 'taxi', 'shall', 'bill', 'convict', 'calendar', 'were', 'heroic', 'spying', 'bloody', 'pies', 'robbed', 'write', 'example', 'band', 'bosom', 'intended', 'sure', 'traitor', 'market', 'accept', 'perfect', 'quite', 'true', 'me', 'giving', 'lab', 'headache', 'gloves', 'kidding', 'start', 'called', 'ambition', 'pipe', 'last', 'brief', 'he', 'bear', 'winning', 'army', 'freezer', 'bladder', 'anxious', 'fly', 'regret', 'wig', 'returned', 'living', 'voucher', 'steak', 'early', 'removed', 'falls', 'luxury', 'mosquito', 'christmas', 'girl', 'parents', 'll', 'expected', 'moved', 'sit', 'wife', 'number', 'taxes', 'fantastic', 'yes', 'blanc', 'aiming', 'son', 'hoped', 'fill', 'expect', 'plans', 'sad', 'your', 'area', 'id', 'poem', 'coma', 'wrote', 'dancing', 'make', 'blood', 'india', 'talk', 'wet', 'tv', 'liked', 'planet', 'usa', 'bottle', 'showed', 'roll', 'felt', 'walks', 'times', 'earns', 'four', 'laws', 'wasting', 'twice', 'lover', 'race', 'nervous', 'physics', 'putt', 'caught', 'garage', 'drop', 'voice', 'risks', 'veteran', 'fool', 'strange', 'hunter', 'course', 'secret', 't', 'beer', 'wears', 'epic', 'cent', 'meant', 'rugby', 'eager', 'woozy', 'ended', 'reads', 'got', 'drink', 'address', 'risk', 'chose', 'boiling', 'be', 'looks', 'changed', 'soft', 'saying', 'truck', 'attack', 'educated', 'sec', 'same', 'bleeding', 'wall', 'wiser', 'sea', 'they', 'few', 'take', 'place', 'him', 'hug', 'rising', 'carpenter', 'wise', 'flaws', 'museum', 'piece', 'useful', 'anybody', 'week', 'ears', 'wake', 'assistance', 'liar', 'recent', 'stew', 'nightclub', 'creepy', 'lived', 'obtain', 'money', 'driver', 'sale', 'fax', 'judge', 'thought', 'sow', 'prizes', 'flop', 'doll', 'goat', 'skate', 'opera', 'remember', 'system', 'factory', 'skiing', 'shake', 'conflict', 'tested', 'offering', 'ankle', 'milky', 'beard', 'colors', 'next', 'gotten', 'blog', 'met', 'admire', 'power', 'pick', 'running', 'finicky', 'cable', 'runs', 'kids', 'clingy', 'ride', 'hasn', 'sings', 'nails', 'does', 'fear', 'open', 'going', 'which', 'daughter', 'birds', 'dormitory', 'rough', 'car', 'now', 'journey', 'dark', 'toy', 'judgment', 'willing', 'helps', 'ladder', 'pierced', 'meeting', 'second', 'guess', 'hockey', 'proved', 'ninja', 'sword', 'later', 'rung', 'van', 'unfair', 'river', 'something', 'singing', 'prime', 'ford', 'don', 'loss', 'rumor', 'law', 'bars', 'better', 'witty', 'towel', 'italian', 'become', 'tried', 'earn', 'learn', 'often', 'f', 'disc', 'decades', 'mind', 'text', 'cooking', 'drawer', 'hard', 'myth', 'yokohama', 'heights', 'news', 'expert', 'size', 'sir', 'stuff', 'gave', 'ton', 'sat', 'lovely', 'pal', 'intend', 'really', 'mommy', '?', 'fixed', 'married', 'chilly', 'mars', 'kite', 'mistaken', 'gray', 'mince', 'mike', 'yourself', 'breath', 'classroom', 'dawn', 'beyond', 'lawn', 'metal', 'chase', 'out', 'court', 'rose', 'day', 'essay', 'small', 'one', 'suggest', 'other', 'degree', 'boys', 'thing', 'walked', 'never', 'bat', 'main', 'counter', 'actress', 'prize', 'heavy', 'eats', 'flute', 'lunch', 'business', 'asking', 'deep', 'cake', 'look', 'would', 'fake', 'fail', 'cop', 'means', 'after', 'boiled', 'continue', 'tag', 'event', 'artist', 'reap', 'holiday', 'knee', 'moist', 'swam', 'forgot', 'its', 'hands', 'making', 'reviews', 'lesson', 'cookie', 'hothead', 'skis', 'monkey', 'cats', 'duck', 'keeps', 'pride', 'spoiled', 'hawaii', 'refund', 'difficult', 'fruit', 'solution', 'electric', 'dozen', 'ocean', 'traffic', 'sunny', 'nauseous', 'eaten', 'lead', 'map', 'pets', 'learning', 'sheep', 'road', 'angry', 'fair', 'passport', 'yen', 'wink', 'where', 'ice', 'dumb', 'his', 'leave', 'fed', 'room', 'love', 'empty', 'worst', 'worn', 'key', 'sane', 'africa', 'learner', 'morgue', 'maid', 'suffer', 'happens', 'hurts', 'cut', 'warned', 'bud', 'draw', 'parking', 'reading', 'stare', 'omelet', 'tired', 'lighter', 'went', 'lives', 'martial', 'over', 'moral', 'bears', 'float', 'dead', 'i', 'dream', 'others', 'dressed', 'doctor', 'floor', 'flight', 'precious', 'drunk', 'suv', 'wolf', 'wants', 'hit', 'tree', 'soap', 'kimono', 'tall', 'couldn', 'adamant', 'mall', 'ran', 'science', 'control', 'brothers', 'b', 'offered', 'wondered', 'listed', 'ring', 'having', 'immoral', 'wonder', 'teacher', 'stared', 'turned', 'doughnut', 'clean', 'lung', 'skirt', 'someone', 'tooth', 'bought', 'diabetic', 'from', 'noon', 'leader', 'all', 'talked', 'fuji', 'saves', 'rid', 'weren', 'have', 'her', 'send', 'real', 'longer', 'favorite', 'listened', 'points', 'shave', 'staring', 'fess', 'fox', 'wouldn', 'keys', 'mexico', '!', 'hide', 'pale', 'oral', 'pot', 'damage', 'suit', 'target', 'cash', 'abuse', 'london', 'superb', 'life', 'shop', 'cap', 'jacket', 'survey', 'raw', 'stung', 'great', 'farm', 'japan', 'owes', 'memory', 'kissed', 'bike', 'errors', 'punched', 'loyal', 'important', 'blouse', 'safer', 'farmer', 'local', 'dying', 'prison', 'spoon', 'recommend', 'bothers', 'books', 'find', 'rare', 'across', 'pants', 'afraid', 'fry', 'mutt', 'amused', 'else', 'rock', 'option', 'dyed', 'group', 'short', 'poems', 'morning', 'shirt', 'english', 'annoyed', 'word', 'sedative', 'hire', 'move', 'success', 'chin', 'wanna', 'valid', 'wish', 'go', 'book', 'left', 'goats', 'rolls', 'fault', 'worried', 'hoping', 'pens', 'sunday', 'done', 'similar', 'hope', 'poet', 'own', 'entire', 'waited', 'what', 'ugly', 'thousand', 'wearing', 'brushing', 'ufo', 'woods', 'fun', 'hi', 'those', 'active', 'once', 'john', 'tape', 'irs', 'blaming', 'tripped', 'picking', 'votes', 'whole', 'singer', 'manager', 'so', 'present', 'violinist', 'pair', 'gossip', 'noah', 'hostile', 'type', 'bet', 'reply', 'cautious', 'lost', 'apology', 'rookie', 'remain', 'begged', 'insane', 'hair', 'lemon', 'eight', 'rush', 'of', 'warm', 'scared', 'pure', 'bin', 'usual', 'theory', 'boat', 'camera', 'upset', 'happy', 'victory', 'changes', 'happen', 'motto', 'hat', 'tidying', 'alone', 'due', 'gold', 'tire', 'cube', 'member', 'shame', 'organ', 'related', 'tricked', 'years', 'embassy', 'wished', 'uncle', 'depressed', 'belong', 'pampered', 'only', 'dishes', 'lied', 'worth', 'approve', 'drinks', 'sick', 'seemed', 'songs', 'shoot', 'gas', 'extra', 'roof', 'explained', 'goodbye', 'broken', 'why', 'guilty', 'thin', 'baseball', 'dress', 'bee', 'owe', 'smells', 'pear', 'forbid', 'fbi', 'work', 'dollars', 'flag', 'strict', 'such', 'australia', 'stupid', 'google', 'eater', 'sneaky', 'seeing', 'windows', 'witch', 'mountains', 'simple', 'too', 'sms', 'if', 'healer', 'picked', 'fast', 'throat', 'quick', 'lie', 'mobile', 'explosion', 'stopped', 'birth', 'anime', 'ringing', 'letter', 'disaster', 'much', 'debt', 'run', 'art', 'said', 'sarcastic', 'mat', 'service', 'wide', 'men', 'january', 'pompous', 'sense', 'actor', 'refuse', 'away', 'stories', 'third', 'an', 'killed', 'begin', 'theories', 'admit', 'baking', 'thirsty', 'vote', 'shock', 'master', 'comment', 'poker', 'complain', 'endured', 'adopted', 'meet', 'altar', 'o', 'waits', 'chess', 'advantage', 'sports', 'errands', 'smart', 'help', 'job', 'hurry', 'fit', 'listen', 'heaven', 'petty', 'live', 'nasty', 'protect', 'rained', 'sweet', 'haven', 'hung', 'hill', 'read', 'cook', 'jockey', 'violent', 'tonight', 'shower', 'know', 'snack', 'being', 'dump', 'ball', 'given', 'mouth', 'wow', 'forever', 'grass', 'probably', 'choir', 'starting', 'mud', 'oh', 'towels', 'nice', 'hold', 'relax', 'euros', 'sox', 'writes', 'lent', 'hired', 'isn', 'began', 'space', 'cow', 'europe', 'kill', 'ticket', 'deal', 'grouchy', 'shade', 'building', 'counting', 'allow', 'before', 'stone', 'dear', 'slipped', 'prefer', 'temper', 'will', 'prophet', 'doesn', 'no', 'hugging', 'shape', 'whale', 'virus', 'logical', 'still', 'coat', 'apples', 'tux', 'myself', 'ready', 'knocked', 'say', 'ignore', 'human', 'study', 'game', 'died', 'sees', 'sleep', 'slow', 'flock', 'blonde', 'tan', 'mice', 'retired', 'homework', 'toilet', 'jazz', 'lot', 'doubts', 'threw', 'yawn', 'genius', 'this', 'tea', 'post', 'heating', 'black', 'fight', 'jail', 'weigh', 'drive', 'toxic', 'moving', 'appear', 'writer', 'light', 'snake', 'albums', 'set', 'pry', 'date', 'cellphone', 'lovable', 'possible', 'dog', 'juice', 'for', 'decent', 'lay', 'laptop', 'victim', 'gym', 'hers', 'cucumber', 'woken', 'stop', 'selling', 'could', 'bridge', 'website', 'the', 'dad', 'animals', 'wine', 'been', 'nikon', 'tattoo', 'cream', 'dreams', 'tail', 'pink', 'limo', 'child', 'shopping', 'digger', 'rabbit', 'telling', 'math', 'locker', 'down', 'deceived', 'ark', 'innovative', 'dealer', 'spring', 'bored', 'tower', 'folk', 'ends', 'chubby', 'poor', 'memorizing', 'train', 'baby', 'age', 'asthma', 'fire', 'park', 'mistake', 'and', 'cough', 'biased', 'plan', 'salesgirl', 'trainer', 'stranger', 'made', 'credit', 'seen', 'honest', 'ten', 'needed', 'bully', 'shove', 'german', 'am', 'town', 'bag', 'home', 'might', 'enough', 'idea', 'new', 'taller', 'strategy', 'matter', 'anymore', 'decision', 'gift', 'bone', 'follow', 'keep', 'photos', 've', 'secure', 'snow', 'village', 'paint', 'pain', 'school', 'believe', 'pays', 'pe', 'bus', 'bowl', 'managed', 'stay', 'driving', 'older', 'liz', 'choice', 'heroin', 'row', 'tap', 'dye', 'exam', 'casino', 'resign', 'duty', 'paying', 'bleed', 'anything', 'side', 'famous', 'effort', 'iq', 'shy', 'listens', 'ordered', 'single', 'or', 'some', 'soldier', 'cuts', 'ipad', 'adult', 'asleep', 'two', 'cruise', 'woke', 'boring', 'movies', 'golf', 'typing', 'believes', 'under', 'force', 'violin', 'pilot', 'horse', 'wasn', 'ever', 'cousin', 'basket', 'story', 'opossum', 'musician', 'filled', 'page', 'handsome', 'kiss', 'reach', 'apple', 'rage', 'humble', 'back', 'there', 'scary', 'care', 'unhappy', 'faith', 'kind', 'succeed', 'quarter', 'poison', 'glass', 'honor', 'toyota', 'ate', 'words', 'granola', 'family', 'notes', 'fluent', 'bath', 'police', 'silk', 'scrawny', 'mont', 'night', 'curry', 'yell', 'large', 'studied', 'queue', 'class', 'bell', 'rich', 'spend', 'trying', 'email', 'barely', 'odd', 'trips', 'alive', 'taken', 'doors', 'table', 'feeling', 'miracle', 'decide', 'punished', 'double', 'picture', 'curse', 'looking', 'rather', 'flu', 'sound', 'excuse', 'dreamed', 'easter', 'hurt', 'half', 'should', 'awoke', 'helping', 'who', 'worked', 'cruel', 'normal', 'ski', 'clothes', 'analyst', 'confused', 'promise', 'in', 'belly', 'hot', 'jog', 'dogs', 'calling', 'fell', 'closet', 'then', 'is', 'quiet', 'common', 'change', 'novel', 'trivial', 'crazy', 'admired', 'athlete', 'walker', 'everyone', 'straw', 'cowboy', 'healthy', 'hint', 'radio', 'license', 'comb', 'whose', 'nerves', 'sleeping', 'our', 'rib', 'pencil', 'choked', 'officer', 'album', 'prove', 'list', 'engaged', 'lonely', 'yet', 'foolish', 'bathroom', 'stolen', 'mail', 'minor', 'kyoto', 'women', 'assumed', 'brush', 'peel', 'death', 'cries', 'york', 'cd', 'enemy', 'waste', 'fish', 'swimmer', 'guy', 'near', 'laughed', 'far', 'library', 'calls', 'cost', 'lisp', 'chinese', 'decided', 'noticed', 'nerd', 'slight', 'project', 'at', 'lies', 'need', 'task', 'uniform', 'pharmacy', 'apartment', 'lock', 'color', 'purpose', 'custody', 'nearby', 'furious']\n",
      "Target Vocabulary ['appeso', 'poterla', 'grasso', 'violento', 'parola', 'sbagliato', 'cucino', 'castello', 'andai', 'mary', 'pranza', 'pass', 'rifaresti', 'toccarti', 'sedeva', 'senta', 'inizio', 'contatto', 'zoo', 'albero', 'barretta', 'pazienti', 'semplice', 'specie', 'continuare', 'doppiatore', 'dammelo', 'scelto', 'finiamo', 'dovrebbe', 'svegli', 'dartelo', 'divertente', 'indietro', 'cicatrice', 'osavo', 'crede', 'sorprenderlo', 'vecchiaia', 'indosso', 'promozione', 'sai', 'scrivero', 'ancora', 'occhiali', 'arrendero', 'dovuto', 'dovere', 'serpente', 'calciatore', 'parliamo', 'scorciatoia', 'inventato', 'punito', 'scappata', 'brividi', 'tempi', 'venuto', 'fratello', 'colpi', 'indirizzo', 'agli', 'porte', 'dello', 'sui', 'piena', 'riprovare', 'famiglia', 'superba', 'ando', 'aspettera', 'forzarlo', 'aggiungilo', 'mercato', 'prendimi', 'certezza', 'trascorso', 'vera', 'kendo', 'cantato', 'carta', 'mi', 'agricolo', 'vento', 'capito', 'piangero', 'sogni', 'pallida', 'vincessero', 'laurea', 'leggermi', 'aspettarti', 'sedermi', 'correte', 'fece', 'malata', 'sera', 'palla', 'fumare', 'tempo', 'febbre', 'vado', 'secondo', 'vive', 'tazza', 'grassi', 'talpa', 'rifarlo', 'vestito', 'sembra', 'veloce', 'lascio', 'contando', 'bersaglio', 'decidere', 'plastica', 'andro', 'indebitato', 'rabbia', 'occupero', 'indovini', 'pony', 'ieri', 'lasciarlo', 'marina', 'vomitare', 'lasciato', 'ogni', 'disastro', 'pianoforti', 'dormendo', 'parlero', 'bullo', 'prigione', 'ghiaccio', 'sprofondo', 'raccontando', 'esplosione', 'mp', 'pranzare', 'sopra', 'fetta', 'incontrarlo', 'offriamolo', 'depili', 'donna', 'nascose', 'scivolato', 'maleducata', 'scambiare', 'invitato', 'karate', 'domanda', 'masticare', 'pensare', 'arriviamo', 'nella', 'magico', 'grave', 'anno', 'assomiglio', 'lezione', 'dirai', 'estero', 'irruzione', 'verra', 'suo', 'primavera', 'cantavamo', 'braccio', 'punto', 'suoi', 'cupo', 'sparito', 'aspettavo', 'ascolta', 'riposarti', 'sodo', 'probabilmente', 'ignorare', 'tema', 'chiedilo', 'appena', 'tenere', 'sto', 'numerosa', 'saper', 'profondo', 'prigioniero', 'andarsene', 'possibilita', 'caldi', 'parlerai', 'potuto', 'veterano', 'molta', 'ubriachi', 'orologio', 'devono', 'fido', 'vinca', 'soffrisse', 'trappola', 'erano', 'lavarmi', 'bambina', 'assegno', 'articolo', 'sentire', 'guadagni', 'mettilo', 'mandero', 'odore', 'scout', 'porcile', 'suonata', 'soldi', 'rane', 'time', 'seguente', 'passo', 'pianificato', 'bevevo', 'vostro', 'vetro', 'scorso', 'arrivero', 'molte', 'giorno', 'sposarla', 'delle', 'abbassarlo', 'riescono', 'sbagliavo', 'dirmi', 'gioioso', 'etichetta', 'perdono', 'pattini', 'dimostrarlo', 'zitto', 'persona', 'sete', 'fermo', 'sollievo', 'guido', 'spegnere', 'infranto', 'mare', 'funzionera', 'sperato', 'bastardo', 'principale', 'do', 'contenti', 'orsi', 'rimanere', 'stia', 'evento', 'vorrei', 'conosciamo', 'divertiamoci', 'scuola', 'marrone', 'grado', 'divertirsi', 'eta', 'mangiato', 'arrenderebbe', 'weekend', 'quella', 'scommessa', 'divertimento', 'leggo', 'faccende', 'chiedetemi', 'carica', 'fa', 'vomitero', 'riavere', 'batterista', 'diabetico', 'giorni', 'sapeva', 'pietra', 'starai', 'fotografica', 'remi', 'bagnate', 'chiedi', 'ok', 'caro', 'lei', 'c', 'vite', 'potere', 'tornato', 'anticipo', 'piscina', 'passa', 'fiato', 'aiutarti', 'menu', 'averlo', 'classe', 'nostre', 'lavoro', 'preparando', 'fuori', 'giro', 'possiede', 'idee', 'sentito', 'identita', 'mani', 'lasceranno', 'ballerino', 'ucciderci', 'sguardo', 'frittata', 'bebe', 'gate', 'piacermi', 'aquilone', 'dica', 'piangere', 'abitiamo', 'viveva', 'andarci', 'lo', 'utile', 'tantissimo', 'mirando', 'neri', 'sanno', 'stampante', 'tappati', 'bagno', 'studia', 'sinistra', 'funzioni', 'portero', 'scala', 'municipio', 'sento', 'piano', 'porterai', 'ricordato', 'fretta', 'straniera', 'mandando', 'prato', 'rese', 'macchina', 'sole', 'dalla', 'barba', 'fiore', 'soffra', 'sottosopra', 'mangiando', 'muscolo', 'leggi', 'divertito', 'promesse', 'rende', 'varieta', 'oscurita', 'imparando', 'film', 'salvarlo', 'folle', 'adorabile', 'incontriamoci', 'canta', 'nove', 'volto', 'appoggiavo', 'chiamera', 'torto', 'mostrai', 'tantino', 'sbaglia', 'rispettavo', 'pausa', 'aiutera', 'almeno', 'sperando', 'posta', 'vivete', 'drogato', 'minore', 'cancro', 'vivere', 'unira', 'medico', 'fessura', 'perdera', 'soffocato', 'riscaldando', 'soprannome', 'frequenti', 'ballare', 'a', 'lentamente', 'dacci', 'colpevole', 'discorso', 'suey', 'ciambella', 'pelata', 'oscuro', 'fermeresti', 'po', 'picnic', 'servire', 'squadra', 'trovati', 'poter', 'pettinando', 'lasciamelo', 'farei', 'deve', 'mezz', 'bistecche', 'copia', 'meschino', 'impiccione', 'accontentare', 'scimmia', 'sicura', 'strapparsi', 'interezza', 'lascera', 'america', 'd', 'destra', 'caccia', 'antica', 'vederli', 'pagare', 'falso', 'riesce', 'citta', 'ascoltato', 'schema', 'loro', 'nera', 'chop', 'aspetto', 'prosciutto', 'vincero', 'riprenditi', 'correttamente', 'scoppiata', 'avete', 'dio', 'argento', 'sposarlo', 'mandamela', 'blu', 'sarebbe', 'aiutando', 'n', 'ignoto', 'bollette', 'tassista', 'tatto', 'cia', 'usb', 'incontriamo', 'chiediamo', 'ululare', 'odi', 'mangiamo', 'brava', 'sconvolti', 'mansarda', 'gang', 'stesse', 'giocava', 'deludera', 'arrivare', 'cerchio', 'santo', 'offrendo', 'cielo', 'andarono', 'euro', 'sali', 'sorgendo', 'gestirlo', 'imparare', 'addentato', 'reso', 'messa', 'speriamo', 'nuovi', 'fermarmi', 'frutta', 'invitare', 'vip', 'rimarro', 'andarmene', 'momento', 'tacere', 'nessun', 'uccellino', 'piene', 'modello', 'canzoni', 'ordinato', 'lasciarmi', 'salendo', 'partner', 'poliziotti', 'lunatico', 'mollato', 'moriro', 'nervoso', 'forchetta', 'calamaro', 'asciugamano', 'finisca', 'sforzo', 'paglia', 'che', 'riuscito', 'tornerai', 'ottanta', 'check', 'riparato', 'compiti', 'succo', 'festa', 'tom', 'chiamarlo', 'quando', 'prenderci', 'litigare', 'faceva', 'guardero', 'resta', 'sano', 'chili', 'prezioso', 'occasione', 'propria', 'chiesa', 'queste', 'tagli', 'soldato', 'dare', 'ventilatore', 'operazione', 'londra', 'sfidato', 'fermato', 'avrei', 'francese', 'paghero', 'prenditi', 'bagnato', 'andarcene', 'suggerisco', 'avere', 'finire', 'carro', 'piccolo', 'stesso', 'rimarrai', 'bambini', 'confuso', 'stupido', 'cappello', 'cui', 'sedile', 'borsa', 'naso', 'usi', 'fuoco', 'desiderio', 'mela', 'ameba', 'tigre', 'prendo', 'difficile', 'ombra', 'penso', 'sicuramente', 'amasse', 'arguto', 'rubato', 'chiamero', 'devi', 'poeta', 'riposiamoci', 'ape', 'venga', 'spiarci', 'cucinare', 'morti', 'nessuna', 'senso', 'cuocendo', 'corda', 'sgobbone', 'brillante', 'vuole', 'vivente', 'visto', 'accanto', 'offrirti', 'zampe', 'bene', 'metallo', 'pensa', 'campanello', 'foto', 'rischioso', 'correvo', 'sentiamo', 'bordello', 'corridore', 'uccelli', 'dammene', 'abbracci', 'critico', 'permetti', 'soffrire', 'dove', 'vincera', 'violino', 'riaverlo', 'serio', 'chiedendo', 'istruito', 'rispettiamo', 'diritto', 'preoccupata', 'pessima', 'cresciuti', 'frenetica', 'diciamo', 'reagito', 'preparo', 'abbuffato', 'giocattoli', 'guadagno', 'battitura', 'saremo', 'amata', 'baciare', 'ringraziarlo', 'sorriso', 'svegliarmi', 'raggiungere', 'finestre', 'sciarpa', 'torneremo', 'comprarti', 'programmare', 'provo', 'dai', 'spariti', 'corro', 'pagati', 'lascia', 'abbracciato', 'nascita', 'sposati', 'occupati', 'preferirei', 'seduta', 'provengo', 'vuoi', 'ama', 'superato', 'giuro', 'ammetto', 'fredda', 'rosa', 'severo', 'corrente', 'sente', 'tinto', 'esausto', 'ginocchia', 'pratico', 'rilassi', 'vendendo', 'ballo', 'brillo', 'baciato', 'ehi', 'tagliato', 'vogliamo', 'scarpe', 'ferro', 'forte', 'guaritore', 'trovarli', 'venduto', 'colpo', 'ferire', 'ohio', 'sbadigliare', 'bmw', 'fecero', 'giugno', 'ripariamo', 'vicino', 'comprerei', 'guai', 'sbagliata', 'corsi', 'jet', 'turbata', 'cravatta', 'qualche', 'alcuna', 'unirti', 'questione', 'togli', 'stati', 'cercatrice', 'avvocatessa', 'fisica', 'alibi', 'autoritario', 'vorra', 'fate', 'sciare', 'perse', 'ai', 'ora', 'cognizione', 'parrucca', 'scivolare', 'debiti', 'provate', 'italiano', 'logico', 'giudicare', 'conoscevi', 'infermiera', 'forza', 'appunti', 'centesimo', 'apri', 'stamattina', 'continuava', 'prenderlo', 'riposarmi', 'm', 'costato', 'troppi', 'gestisce', 'impazzire', 'matita', 'stasera', 'sbrigarmi', 'aeroporto', 'inchiostro', 're', 'piombo', 'sincero', 'part', 'grassa', 'presuntuoso', 'se', 'segreto', 'succedera', 'arrendere', 'volonta', 'nuoto', 'inutile', 'notato', 'vivro', 'aria', 'sentirlo', 'tennis', 'rubare', 'fiume', 'difetti', 'avvertire', 'tutta', 'generalmente', 'boy', 'pezzi', 'parco', 'soleggiata', 'divertenti', 'scopa', 'faccio', 'difficili', 'galeotto', 'dico', 'nascosto', 'metterei', 'ringraziarti', 'fai', 'studentessa', 'mettere', 'attore', 'giapponese', 'provarci', 'confessare', 'tribunale', 'parcheggiare', 'comportato', 'hotel', 'fallira', 'sufficientemente', 'intendeva', 'bello', 'adolescente', 'ciao', 'laggiu', 'lauta', 'fermiamo', 'cammina', 'riposo', 'arrivato', 'dispiacera', 'amo', 'prepararti', 'voglio', 'aggiornati', 'lago', 'storia', 'ragazzino', 'andata', 'sbadiglio', 'dall', 'pulire', 'darti', 'correre', 'peli', 'politica', 'camminare', 'sul', 'gentile', 'vengo', 'dimostrero', 'darai', 'inciampare', 'dirci', 'teatrale', 'diventare', 'rotto', 'rapidamente', 'fortuna', 'potevo', 'qualunque', 'club', 'sessant', 'qual', 'umidi', 'equo', 'cara', 'birra', 'rimane', 'cuscino', 'spettacolo', 'rischiarlo', 'uomini', 'parte', 'quel', 'sporca', 'essere', 'qua', 'fidavo', 'banana', 'tratta', 'cugini', 'dormitorio', 'finisce', 'opinione', 'spettegola', 'data', 'senza', 'piaceva', 'continua', 'portarmi', 'volevamo', 'automobile', 'gia', 'fianco', 'cuore', 'adesso', 'soffiava', 'fedele', 'tossico', 'vanesio', 'anziana', 'camicia', 'giocato', 'orso', 'riposati', 'bevi', 'puro', 'pompieri', 'vanno', 'paghi', 'aprire', 'trampoli', 'valsa', 'auguro', 'praticare', 'sempre', 'tende', 'buone', 'importante', '.', 'sapevo', 'accesa', 'proibisco', 'mettiamolo', 'parole', 'cavo', 'ubriacarmi', 'studiando', 'canti', 'lamentarti', 'mezzogiorno', 'ammirato', 'trovarti', 'chiederti', 'colpita', 'indicato', 'accecato', 'poesie', 'coraggiosa', 'spostare', 'forse', 'nuova', 'buffo', 'piaciuto', 'manchera', 'stella', 'viaggio', 'apre', 'dillo', 'sedere', 'saresti', 'uovo', 'sara', 'uomo', 'provera', 'asma', 'nuotavo', 'brad', 'muovermi', 'acqua', 'appetito', 'bevanda', 'vaccino', 'sopportato', 'chiederglielo', 'desolato', 'tokyo', 'spugna', 'collegato', 'tyson', 'bar', 'insegnante', 'presentata', 'dovro', 'mise', 'alcune', 'fin', 'lasciare', 'cieco', 'chef', 'vattene', 'appare', 'ciotola', 'malattia', 'acconsentito', 'metterlo', 'zuppa', 'saperlo', 'mancia', 'muro', 'entrera', 'notte', 'cotta', 'pensavo', 'bloccato', 'darsi', 'anziani', 'capre', 'meticoloso', 'voluto', 'portarlo', 'sacco', 'uscii', 'rifiuto', 'novellino', 'taglialo', 'felice', 'sapevi', 'avvisare', 'risata', 'egli', 'resto', 'bottiglia', 'mentiremo', 'superficiale', 'cambiar', 'spegnerlo', 'qualcosa', 'orsetto', 'tristi', 'guardato', 'mini', 'strade', 'sicuro', 'vinto', 'lasciamolo', 'dietro', 'avevamo', 'arreso', 'possono', 'lavato', 'quest', 'facevamo', 'dispiace', 'primo', 'hai', 'chitarra', 'linea', 'vedervi', 'nacque', 'meglio', 'disperato', 'pugni', '<eos>', 'esserne', 'stagno', 'valida', 'portavo', 'cicala', 'affamato', 'opzioni', 'oggi', 'farne', 'tutt', 'sediamo', 'segno', 'segreti', 'cetriolo', 'pochino', 'luce', 'fidato', 'amassi', 'pensarci', 'ragazzo', 'viva', 'giocavo', 'premi', 'essermi', 'zucchero', 'burbero', 'arabo', 'fisso', 'prende', 'vicenda', 'ebay', 'buon', 'commenti', 'conosciuti', 'raramente', 'cane', 'preoccuparsi', 'capelli', 'tizio', 'arpa', 'scommetterei', 'passeggiata', 'utilizzata', 'hollywood', 'valga', 'timidi', 'vedermi', 'credito', 'diavolo', 'spesso', 'parlando', 'mie', 'richiamarti', 'tuffato', 'altra', 'tizi', 'visti', 'dj', 'dieci', 'vino', 'cominciare', 'facci', 'cercavo', 'bronzo', 'vestiti', 'lanterna', 'bollire', 'occupato', 'prudente', 'solo', 'pallido', 'esaurito', 'offerto', 'trovo', 'licenza', 'melo', 'volare', 'chiedo', 'alle', 'messo', 'scesi', 'venisse', 'questo', 'sederti', 'genitori', 'migliore', 'dovresti', 'prosciugato', 'sventolando', 'calmo', 'avendo', 'innovativo', 'saprei', 'svegliarti', 'cappotto', 'fissavo', 'catalogo', 'buca', 'spinaci', 'gente', 'soffitta', 'fermarti', 'attrice', 'terzo', 'disoccupato', 'giappone', 'pazza', 'era', 'spreco', 'rivederla', 'lega', 'coraggioso', 'montagna', 'pioggia', 'cantassi', 'abbattuto', 'prudenti', 'massaggio', 'sembrano', 'trance', 'energia', 'nemmeno', 'attrezzi', 'ammiro', 'affatto', 'affittare', 'obeso', 'altre', 'venivo', 'piagnucolone', 'contanti', 'allacciarsi', 'voglia', 'elegante', 'cespuglio', 'gentili', 'meta', 'anche', 'corridoio', 'stata', 'sociale', 'conosceva', 'marte', 'affidamento', 'arrabbiata', 'giusto', 'tuoi', 'diritti', 'alza', 'maschera', 'canada', 'vediamo', 'balena', 'hey', 'qi', 'chiuso', 'solido', 'iscrivo', 'gamba', 'latente', 'lunghe', 'votero', 'uscendo', 'restato', 'fine', 'senti', 'l', 'visa', 'avvicinarti', 'stavo', 'schifo', 'signore', 'nota', 'discreto', 'spacciatore', 'panico', 'tua', 'ad', 'non', 'noleggiare', 'latte', 'daremo', 'abbiamo', 'ovest', 'venderlo', 'immaginato', 'limoni', 'prova', 'rossa', 'lento', 'fame', 'odora', 'tredici', 'buia', 'perdente', 'svegliare', 'affascinante', 'musica', 'venendo', 'badge', 'arance', 'sospetti', 'paese', 'degli', 'messico', 'volato', 'adulto', 'fermi', 'libri', 'pizza', 'dimissioni', 'lasciarti', 'stiamo', 'vecchia', 'acceso', 'entrare', 'divertirono', 'guidando', 'dati', 'sensazione', 'lasciando', 'offrirei', 'morirei', 'riposare', 'intendo', 'operaio', 'domande', 'realizzando', 'libero', 'vacanza', 'sarai', 'affari', 'rimasta', 'teoria', 'guidare', 'tranquilla', 'furto', 'diventato', 'incontrano', 'portata', 'turbato', 'garantire', 'blue', 'movimentata', 'ucciso', 'mia', 'pesci', 'metterai', 'sexy', 'cauto', 'tonno', 'indaffarata', 'prezzo', 'fare', 'aiutarmi', 'cos', 'tocca', 'presi', 'dando', 'fiasco', 'litigo', 'mossa', 'vide', 'troppa', 'provato', 'toccato', 'tappeto', 'dimmi', 'scrivi', 'sorelle', 'importerebbe', 'svolta', 'intelligente', 'possa', 'domestico', 'decida', 'avvisarti', 'ricca', 'ictus', 'innamora', 'suicidato', 'giudizio', 'seduti', 'salii', 'dimostrare', 'tasse', 'scendere', 'gatti', 'dentro', 'sdraiato', 'rimborso', 'enorme', 'capra', 'li', 'vincere', 'piacere', 'crepa', 'difetto', 'serviva', 'riva', 'importi', 'seduto', 'risolto', 'portala', 'comincio', 'impegnatissimo', 'contento', 'trovera', 'liberta', 'martire', 'agente', 'guardo', 'nevicare', 'funziona', 'guardarla', 'lupo', 'pitt', 'fermerai', 'bandiera', 'ricevo', 'movimento', 'bordo', 'averci', 'parto', 'chiamato', 'piango', 'commissione', 'aiutero', 'limousine', 'lavori', 'occhio', 'matematica', 'entra', 'sacchetto', 'brutto', 'spazzatura', 'ufficio', 'calore', 'cose', 'rivuoi', 'visione', 'scelte', 'ringrazio', 'media', 'caduto', 'tagliali', 'rubata', 'morendo', 'lascero', 'aggiungi', 'orecchi', 'seno', 'andate', 'pattinare', 'arricchito', 'preso', 'lasciamici', 'ruota', 'pianoforte', 'regole', 'spieghiamo', 'rimangono', 'zona', 'preoccuparmi', 'sdraiarmi', 'pistola', 'adeguato', 'sedia', 'saro', 'significa', 'studio', 'vivevo', 'perso', 'aiutato', 'sporco', 'presente', 'digli', 'collina', 'riparata', 'pazzo', 'ritornato', 'figli', 'arancia', 'mettendo', 'impiegato', 'promessa', 'spirito', 'felici', 'lontana', 'magnifico', 'noi', 'sono', 'addomesticato', 'ravvicinata', 'chiaro', 'vai', 'possiedo', 'appuntamento', 'colto', 'presto', 'corre', 'tiro', 'anello', 'guardalo', 'aiuterai', 'partira', 'del', 'mangio', 'esami', 'averti', 'sia', 'vendita', 'sandwich', 'terreno', 'tuo', 'fan', 'ricco', 'cresciuto', 'portano', 'munge', 'saggi', 'riposando', 'tendenza', 'universita', 'riunione', 'conta', 'lingua', 'beh', 'capace', 'imparziale', 'piovuto', 'raccolto', 'giochi', 'panchina', 'grande', 'vivono', 'largo', 'sposi', 'vederti', 'voce', 'scuri', 'perfino', 'tenermi', 'parla', 'discretamente', 'computer', 'sogniamo', 'allenatore', 'tenace', 'fortunato', 'compro', 'freccette', 'comprarne', 'raffinato', 'avro', 'dispiaceva', 'meno', 'ben', 'colpa', 'pagarlo', 'vissuta', 'spiaggia', 'piangevo', 'strategia', 'mentirebbe', 'sinistro', 'aver', 'scrivo', 'crescere', 'esattamente', 'buttare', 'compito', 'asciutti', 'su', 'farla', 'portato', 'calendario', 'tu', 'assumere', 'sognato', 'forzato', 'yoga', 'atleta', 'diga', 'ottengo', 'abbracciarti', 'nuotatrice', ',', 'spia', 'nell', 'indovina', 'emozionato', 'jeans', 'trainare', 'una', 'scrivendo', 'detta', 'caso', 'spedire', 'ragazze', 'mandato', 'fresca', 'oratore', 'dente', 'venite', 'avremmo', 'mollera', 'dubbio', 'seguire', 'fammi', 'ripetero', 'salito', 'accordo', 'schiarira', 'boston', 'continuo', 'burro', 'come', 'completamente', 'ubriaco', 'prega', 'riparero', 'voluta', 'occupa', 'pieta', 'sugli', 'torta', 'aiuterei', 'lattea', 'pagina', 'nave', 'pisolino', 'potrebbe', 'bussato', 'trovato', 'cantera', 'abituerai', 'nostra', 'bici', 'carine', 'qualcuno', 'futile', 'casa', 'ferito', 'quello', 'crudele', 'red', 'andremo', 'camicetta', 'odiasse', 'amano', 'dovevo', 'straniero', 'sport', 'andartene', 'aiutati', 'completo', 'salvare', 'contratto', 'commessa', 'nastro', 'ingannati', 'stanchi', 'sopravvivere', 'dirvelo', 'gioco', 'papera', 'atti', 'puoi', 'costera', 'letto', 'cani', 'ottantatre', 'bella', 'madre', 'reddito', 'donne', 'vederla', 'mucca', 'celebrita', 'parlato', 'togliermi', 'trucco', 'competere', 'racconta', 'missione', 'raccontato', 'valore', 'marito', 'fossi', 'morto', 'unica', 'importa', 'lavero', 'parcheggio', 'turno', 'cura', 'abitui', 'abbraccio', 'veterinario', 'accordatore', 'stessi', 'contadino', 'sarei', 'guerra', 'romanzo', 'soluzione', 'pozzo', 'andrei', 'ricchi', 'alzati', 'usufruire', 'serve', 'malapena', 'abbacchiato', 'tipo', 'imparato', 'raffreddore', 'parti', 'romanzi', 'benzina', 'soleggiato', 'darci', 'tanto', 'volte', 'libera', 'finirlo', 'vieni', 'rimosso', 'centro', 'lunedi', 'colazione', 'sorpreso', 'sposa', 'compere', 'andranno', 'arrossito', 'figlio', 'eravamo', 'scordato', 'dell', 'riuscivo', 'davvero', 'darla', 'piacciono', 'aiuta', 'diede', 'settimane', 'mappa', 'perdero', 'pratichi', 'piaccia', 'matto', 'indovinare', 'lettera', 'menti', 'decente', 'fermarci', 'fermarsi', 'aspettero', 'lasciali', 'quanto', 'mancato', 'vedessi', 'restano', 'tutte', 'furgone', 'spiegato', 'nemico', 'biscotto', 'francobolli', 'guardare', 'rotta', 'addio', 'vedi', 'leggerli', 'bambino', 'morso', 'violinista', 'torniamo', 'guidavo', 'pagato', 'sappia', 'marie', 'verro', 'usato', 'esci', 'fantastico', 'neve', 'lavorare', 'odia', 'insegnato', 'arrabbiati', 'saltarlo', 'gradini', 'riprovera', 'americana', 'fila', 'sue', 'tingo', 'portarci', 'la', 'voti', 'facendo', 'costarmi', 'chiamare', 'ami', 'circa', 'domenica', 'renderti', 'intesa', 'poterlo', 'quant', 'caccialo', 'paghera', 'pote', 'pelosa', 'trasferirmi', 'maleducato', 'altro', 'proprie', 'fidare', 'dieta', 'volo', 'gratuito', 'risposta', 'schizzinoso', 'stanca', 'vittima', 'dice', 'vuota', 'fiori', 'posato', 'natale', 'karin', 'test', 'sondaggio', 'agnostico', 'doccia', 'mangia', 'nuovo', 'idromassaggio', 'limpido', 'tieni', 'bancone', 'stara', 'pronuncia', 'maiale', 'hobby', 'roccia', 'vedra', 'arrabbiare', 'salario', 'fatti', 'scorsa', 'scelgano', 'gara', 'fissavamo', 'accendino', 'baciata', 'corea', 'intendevo', 'elenco', 'maggiore', 'dirlo', 'stanza', 'dille', 'tossicodipendente', 'significava', 'impegnativa', 'tuffarsi', 'bugia', 'giusta', 'vita', 'dovra', 'asciugamani', 'profondi', 'google', 'erba', 'dollari', 'gliel', 'preparato', 'corto', 'obbedisci', 'taxi', 'viso', 'aspettato', 'sasso', 'favore', 'capire', 'studi', 'vero', 'perdere', 'germania', 'guidato', 'sposato', 'cominciato', 'guidasse', 'povero', 'basta', 'poco', 'sull', 'palestra', 'malato', 'addosso', 'risparmia', 'appiccicoso', 'pesate', 'nuotare', 'sapone', 'band', 'televisione', 'sorridere', 'canto', 'vivi', 'recinto', 'strega', 'aspetterai', 'fiera', 'scappo', 'vittoria', 'prestato', 'dato', 'chiesto', 'cartina', 'ambizione', 'traccia', 'me', 'ucciderlo', 'conoscermi', 'bruciando', 'mentiro', 'irritabile', 'cretino', 'realmente', 'serata', 'nuotato', 'rivederlo', 'voi', 'mito', 'salvarla', 'reale', 'armadietto', 'pena', 'carte', 'facilmente', 'scopra', 'fiero', 'dolore', 'freezer', 'labbro', 'studiare', 'incendio', 'inizialmente', 'voucher', 'immensa', 'scherzo', 'unico', 'arrivo', 'bicchiere', 'sua', 'farai', 'negozio', 'cattiva', 'mangiatore', 'busso', 'verde', 'causa', 'va', 'deciso', 'corti', 'mandami', 'licenziato', 'voler', 'tue', 'sposata', 'uccidendo', 'ottenere', 'biscottino', 'contato', 'uscito', 'stivali', 'teatro', 'memoria', 'entrato', 'faccia', 'rivoglio', 'ridurre', 'son', 'frastornato', 'entrambi', 'inteso', 'vendere', 'io', 'vederci', 'vada', 'allergico', 'vedo', 'ritardo', 'denaro', 'ultima', 'motivo', 'paffuto', 'permesso', 'cinque', 'coma', 'negli', 'suppongo', 'studentesco', 'crederci', 'pronti', 'lamentarmi', 'parete', 'consigli', 'discussione', 'pigra', 'breve', 'india', 'mosca', 'fumatore', 'rirorna', 'ne', 'nottata', 'chiama', 'fantasma', 'pagando', 'seri', 'ascoltarmi', 'danno', 'timido', 'tv', 'ragiona', 'gennaio', 'lasceremo', 'locale', 'dagli', 'tornero', 'usa', 'paradiso', 'vista', 'regalo', 'rubarlo', 'attivo', 'roll', 'imbattuto', 'rifatto', 'corrompermi', 'prendera', 'sa', 'provarla', 'duro', 'sorridendo', 'spiegare', 'lettore', 'spiegamelo', 'smetterla', 'saliamo', 'aiutiamo', 'vi', 'sosterro', 'singola', 'putt', 'lui', 'garage', 'lascialo', 'pensi', 'tentativo', 'chiedergli', 'battere', 'errori', 'rifiutato', 'da', 'mentendo', 'dolce', 'farmi', 'aggiungere', 'zattera', 't', 'tornata', 'spiando', 'giovane', 'conoscono', 'aula', 'esserle', 'siediti', 'rugby', 'seuto', 'stanno', 'mangeremo', 'uova', 'aperta', 'incontrarci', 'drink', 'movimentato', 'sei', 'rinunciato', 'piaccio', 'proteggerti', 'web', 'pesante', 'salutare', 'ritrovare', 'manchero', 'assumerti', 'pieno', 'molti', 'sii', 'seria', 'cottura', 'ridere', 'provavo', 'chiamata', 'impreco', 'innamorato', 'qualsiasi', 'fissando', 'esaminare', 'informarmi', 'amiamo', 'deludero', 'disposto', 'normali', 'sonno', 'ringraziare', 'trofeo', 'paio', 'auto', 'esce', 'incontrato', 'aiutare', 'incapace', 'genio', 'allacciare', 'carcere', 'crudo', 'subito', 'bianco', 'cameriere', 'usiamo', 'mostrero', 'tale', 'nuotera', 'speranza', 'parlarne', 'amore', 'raccontero', 'bretagna', 'incominciamo', 'aereo', 'europa', 'gambe', 'galleggia', 'saggio', 'uscire', 'assicurati', 'dormiva', 'sembrera', 'prendi', 'abitudine', 'leggera', 'venuti', 'tosse', 'intendi', 'carne', 'aggressivo', 'fatto', 'legna', 'dovremmo', 'strano', 'andiamo', 'grandi', 'stavi', 'sale', 'fax', 'godersela', 'per', 'camion', 'unghie', 'costi', 'metro', 'gelato', 'uccello', 'brasato', 'opera', 'dircelo', 'conoscerti', 'vince', 'provi', 'mancano', 'rivista', 'allora', 'quanta', 'proteggere', 'andati', 'sbaglio', 'furtivo', 'credevo', 'raccapricciante', 'nato', 'volete', 'dirmelo', 'avvelenato', 'tirato', 'perdersi', 'gusto', 'pieni', 'blog', 'esercitazione', 'rifaremo', 'stanne', 'incolpando', 'rilassato', 'male', 'venire', 'indossare', 'succedendo', 'tenda', 'porti', 'cera', 'dormito', 'garantira', 'pregato', 'gentiluomo', 'stradale', 'mantenere', 'pianeta', 'staremo', 'suono', 'controllare', 'dorme', 'gratuitamente', 'battuta', 'preferisco', 'quei', 'femminuccia', 'estate', 'comprare', 'aspettarmi', 'immediatamente', 'dozzina', 'gemelli', 'fermero', 'staro', 'tedesco', 'diedi', 'baciatore', 'addormentarmi', 'incontri', 'ordine', 'dia', 'buona', 'incidente', 'agire', 'dimenticato', 'degno', 'minestra', 'caviglia', 'sappiamo', 'paga', 'toglimi', 'piani', 'allo', 'viaggi', 'sufficiente', 'vedere', 'merito', 'amera', 'pranzo', 'giuria', 'sessantina', 'hockey', 'sentivo', 'educazione', 'goffo', 'desidero', 'ninja', 'piacevole', 'aprirlo', 'solida', 'bacio', 'affidabile', 'cucina', 'sanguinavo', 'mio', 'fazioso', 'prendermi', 'nelle', 'desiderava', 'miracolo', 'migliori', 'ostile', 'zio', 'fossile', 'preferita', 'alcuni', 'pranzato', 'perda', 'ford', 'testo', 'pronta', 'rispetto', 'alta', 'chi', 'chierichetto', 'bistecca', 'sembrava', 'nessuno', 'annoiato', 'avaro', 'parta', 'comprato', 'piedi', 'pelato', 'distante', 'ore', 'dubito', 'siano', 'nuotatore', 'odiava', 'obiettivo', 'sentii', 'iniziamo', 'orgoglio', 'dolorante', 'furioso', 'freddo', 'stava', 'bambola', 'restare', 'amante', 'succedere', 'ingiusto', 'disegnare', 'americano', 'ignorati', 'yokohama', 'cibo', 'servono', 'incontrare', 'comprero', 'fermare', 'muoviamoci', 'biglietto', 'spostato', 'canterai', 'stringerti', 'impara', 'quell', 'volevo', 'scoperto', 'latta', 'raggiungerti', 'goloso', 'provando', 'uso', 'giaceva', 'andato', 'pappagorgia', 'terro', 'sbarra', 'sbrigarsi', 'sanguina', '?', 'dosso', 'tornare', 'fermera', 'spegniamo', 'recensioni', 'scrivilo', 'sistema', 'state', 'impressionare', 'rimasi', 'omicidio', 'mike', 'piacciamo', 'mele', 'televisore', 'ginocchio', 'moglie', 'guardi', 'daro', 'cugino', 'aiutarci', 'stazza', 'finche', 'portiamo', 'portati', 'fermassi', 'privato', 'prendendo', 'giornata', 'le', 'pesa', 'approvo', 'divano', 'noe', 'coda', 'campanella', 'attimo', 'dicci', 'trasferito', 'durera', 'mese', 'sentirmi', 'indossava', 'dov', 'provero', 'topi', 'fazzoletto', 'oltre', 'debole', 'consumate', 'riesco', 'potresti', 'gruppo', 'richiesto', 'pane', 'argine', 'nuota', 'esco', 'probabile', 'mentirei', 'elencato', 'forti', 'domani', 'offerta', 'mezza', 'buco', 'accendere', 'timida', 'noioso', 'perfetto', 'ripareresti', 'friggendo', 'riesci', 'alzarti', 'vago', 'pugile', 'brutta', 'eroinomane', 'telefono', 'mente', 'giocattolo', 'mentito', 'costruito', 'altri', 'pago', 'cacciato', 'orecchie', 'vederlo', 'ucciderti', 'tentacoli', 'discarica', 'conclude', 'punti', 'sembrate', 'parli', 'baciammo', 'devo', 'irremovibile', 'sbrigati', 'successo', 'abito', 'adesivo', 'sorpresa', 'salvarti', 'stufato', 'rovinato', 'banchina', 'coltello', 'uguali', 'informare', 'schiavo', 'vecchio', 'rimpiango', 'condividere', 'cookie', 'seriamente', 'piovoso', 'coperta', 'cinese', 'sediamoci', 'pessimo', 'saltato', 'assomiglia', 'piovera', 'spiegarlo', 'tagliare', 'zanzara', 'hawaii', 'cambiata', 'biblioteca', 'telefonare', 'aspettare', 'abituato', 'insegnare', 'getto', 'sbagli', 'circo', 'abbronzatura', 'barca', 'guardavamo', 'verso', 'scegliere', 'dammi', 'vendertelo', 'veniva', 'focolare', 'bevuto', 'voto', 'mostrato', 'yen', 'vescica', 'occupata', 'smarrito', 'capisco', 'scendera', 'abbiano', 'lavare', 'tolto', 'nere', 'numero', 'anziano', 'tutti', 'finito', 'mantengo', 'tavolo', 'funzionare', 'essi', 'sembrare', 'africa', 'seccato', 'peso', 'facciano', 'mostramene', 'orario', 'traffico', 'certo', 'piaci', 'indossato', 'stupida', 'vertigini', 'conto', 'direi', 'partisse', 'sveglio', 'divertirci', 'taglio', 'bud', 'resa', 'bollito', 'chiudersi', 'stare', 'diario', 'volero', 'cercato', 'credo', 'urla', 'bellezza', 'fratellastro', 'messaggio', 'pettine', 'chiamavi', 'ottima', 'luogo', 'contro', 'sangue', 'tenerlo', 'pancia', 'trovata', 'distintivo', 'conoscerla', 'scheggiato', 'giacca', 'comprarle', 'perche', 'ammiravo', 'i', 'pianista', 'volano', 'tornera', 'appassionato', 'grato', 'amici', 'esso', 'avverato', 'suv', 'scusaci', 'veniamo', 'spensi', 'chiavi', 'pelare', 'permettercelo', 'completa', 'diciannove', 'kimono', 'taglia', 'ci', 'lavoravo', 'offriro', 'genere', 'barzelletta', 'strana', 'assonnato', 'piova', 'accompagnarti', 'gemella', 'avresti', 'negarlo', 'b', 'indossi', 'animali', 'abita', 'tante', 'risparmiare', 'chiami', 'minuto', 'corse', 'passaporto', 'anima', 'minorenne', 'aspetta', 'influenza', 'arrabbiarmi', 'perfetta', 'raccontare', 'cammino', 'velocizzarlo', 'malati', 'pavimento', 'bassista', 'cinquant', 'ponte', 'stessa', 'smettere', 'abbastanza', 'motore', 'prendiamo', 'questa', 'aiuto', 'buono', 'disagio', 'vecchi', 'servira', 'chiamarti', 'vomitato', 'leader', 'spuntino', 'rubinetto', 'carceraria', 'all', 'rossi', 'possiedi', 'stato', 'arrangi', 'fuji', 'riprovero', 'buio', 'hanno', 'abbaia', 'uccidero', 'cuoco', 'provare', 'quanti', 'mangiarlo', 'pericolo', 'orribile', 'sparare', 'posso', 'fidi', 'scatto', 'odiassi', 'danza', 'torna', 'chiedero', 'accettino', 'parigi', 'cena', 'cambiamento', 'profeta', 'dovremo', 'errore', 'ripararlo', 'passaggio', 'periodo', 'sarcastico', 'grosso', 'riso', 'baciarti', 'ce', 'leggero', 'doppia', 'camminiamo', 'sceso', 'sbocciato', 'prendere', 'svegliati', 'pittura', 'piangera', 'chiave', '!', 'rilassarsi', 'concreto', 'dallo', 'dono', 'prenderti', 'forma', 'compra', 'corso', 'credere', 'labirinto', 'orgoglioso', 'mento', 'dibattito', 'visitare', 'normale', 'potessi', 'venuta', 'incolpo', 'occhi', 'farmacia', 'rapido', 'sdraiati', 'sentirsi', 'maniera', 'amami', 'fra', 'cadere', 'resti', 'riprendera', 'vivo', 'camminavamo', 'fammici', 'infastidito', 'aveva', 'semplicemente', 'succeda', 'scritto', 'attacco', 'trovarmi', 'diro', 'impietosita', 'bassa', 'poliziotto', 'malvagio', 'avvera', 'spazio', 'sentiti', 'pagherei', 'dev', 'penna', 'aumento', 'lavoratore', 'salute', 'avvelenati', 'carattere', 'bagnarsi', 'capirlo', 'piangerai', 'gratis', 'lassu', 'decenni', 'amate', 'strappera', 'esame', 'dire', 'rock', 'bosco', 'insegnanti', 'fascino', 'aspettando', 'shirt', 'infermiere', 'rilassati', 'scelta', 'imparentato', 'prepararmi', 'cosi', 'legge', 'appartamento', 'rimasto', 'beve', 'studiero', 'conoscete', 'parlargli', 'odiavo', 'uno', 'libro', 'pecore', 'accendi', 'compri', 'onesta', 'percorso', 'suora', 'intorno', 'messi', 'nevicato', 'tatuaggio', 'spaventato', 'avara', 'morale', 'iniziato', 'collegamenti', 'sbarre', 'sulla', 'avevo', 'cialtrone', 'sette', 'conflitto', 'parlo', 'fidarmi', 'sposare', 'papa', 'gonna', 'lasciami', 'campagna', 'capo', 'ragioni', 'detto', 'residenza', 'chiamami', 'bisogna', 'certamente', 'afosa', 'poesia', 'automobili', 'ufo', 'lanci', 'potremmo', 'treno', 'correggere', 'john', 'irs', 'spento', 'corsa', 'onesto', 'impegnato', 'abbia', 'ottenuto', 'mammifero', 'manager', 'quale', 'so', 'siamo', 'farebbe', 'chiudere', 'vergogni', 'gemello', 'partita', 'controllo', 'fara', 'lottiamo', 'vogliono', 'gravemente', 'lasciarci', 'crimine', 'cambiamo', 'porsi', 'sta', 'velocemente', 'verita', 'cucinera', 'ignora', 'sito', 'botto', 'barzellette', 'apposta', 'incubo', 'seminterrato', 'marziale', 'dubbi', 'scriva', 'custodia', 'facevo', 'feci', 'divertiti', 'avra', 'sbrigarti', 'lingue', 'dicendo', 'proviamo', 'abile', 'respirare', 'trasferirci', 'legno', 'incontrata', 'tranquillo', 'gridare', 'un', 'raccoglie', 'com', 'sopportare', 'cambiato', 'medaglia', 'iniziando', 'colpito', 'occhiata', 'triste', 'folta', 'sembro', 'fermami', 'camera', 'torcicollo', 'amero', 'affare', 'gola', 'onore', 'diretto', 'motto', 'due', 'saltare', 'ascoltiate', 'bucare', 'pasqua', 'fiammifero', 'fidanzato', 'incallito', 'viene', 'vantaggio', 'divertirmi', 'denti', 'nervi', 'viverci', 'stancato', 'unirsi', 'regola', 'cucciolo', 'autobus', 'faro', 'immagino', 'prendertela', 'riguardo', 'roba', 'conducente', 'intende', 'molto', 'volta', 'osi', 'dormo', 'affitto', 'tosare', 'preparero', 'avessi', 'egoista', 'sedativo', 'tetto', 'viaggiare', 'orale', 'multa', 'gabbia', 'scappato', 'gas', 'leggendo', 'fogna', 'giocatore', 'poveri', 'sentirci', 'abuso', 'animale', 'licenziare', 'votato', 'trovare', 'eroico', 'ingannato', 'lontano', 'baseball', 'nasconderci', 'arte', 'di', 'guardia', 'mollare', 'e', 'sgonfia', 'chiedere', 'testamento', 'martello', 'vergogna', 'partito', 'buffa', 'sapra', 'terra', 'meritato', 'mollati', 'fbi', 'domestica', 'aperto', 'abituero', 'aiutino', 'lampada', 'mondo', 'australia', 'avesse', 'raffreddato', 'polmoni', 'nauseato', 'prepararsi', 'maculato', 'manca', 'posto', 'scrivere', 'soltanto', 'dura', 'bugiardo', 'insalata', 'avanti', 'quattro', 'risposto', 'esigente', 'stordito', 'rado', 'sfogare', 'epico', 'aprirsi', 'guadagna', 'destinata', 'vaso', 'ottimista', 'espresso', 'baci', 'rifaro', 'modo', 'indizio', 'partire', 'piccola', 'addormentato', 'spero', 'seta', 'lavorero', 'sms', 'troppo', 'attenuta', 'portare', 'ventisei', 'lasciacelo', 'desideravi', 'trovarlo', 'decollare', 'cerchero', 'prima', 'alcun', 'partout', 'andare', 'caffe', 'tardi', 'caotica', 'viziato', 'anime', 'faresti', 'ottimo', 'sapere', 'vedremo', 'pittore', 'famoso', 'solito', 'qui', 'dovevamo', 'quasi', 'tipi', 'combattere', 'vidi', 'chiedermelo', 'dobbiamo', 'babbo', 'ordinare', 'cellulare', 'laboratorio', 'cervello', 'armadio', 'artista', 'cenato', 'cercata', 'mai', 'eravate', 'ascoltera', 'doveva', 'guardando', 'spingendo', 'nevichera', 'aiutami', 'pettinarmi', 'fantastica', 'schifoso', 'siete', 'andra', 'ragazzi', 'fronte', 'volentieri', 'duecento', 'visitato', 'studiato', 'shock', 'telefonata', 'abbracciare', 'mancava', 'obitorio', 'odio', 'prestito', 'amavo', 'stimo', 'cercando', 'recente', 'poker', 'pipa', 'viviamo', 'saputo', 'aiuti', 'cubetto', 'o', 'epoca', 'perdilo', 'addestratore', 'voterai', 'svegliami', 'assunto', 'pensiero', 'cinema', 'ottobre', 'destinato', 'supportano', 'tremare', 'sedetti', 'chiederlo', 'ritorno', 'parlare', 'bisogno', 'amavi', 'penne', 'fatta', 'veda', 'abbracciarlo', 'vinco', 'esempio', 'scuse', 'acquisti', 'permetto', 'svegliarsi', 'consapevole', 'bastone', 'canzone', 'continuato', 'fu', 'divertendo', 'spiritoso', 'fegato', 'aiutarlo', 'chiamarmi', 'dira', 'incontrero', 'mucchio', 'corpo', 'cumino', 'ridendo', 'fluente', 'incontro', 'alla', 'oceano', 'potevi', 'osare', 'wow', 'cantante', 'moriranno', 'vendero', 'dei', 'asociale', 'tre', 'curioso', 'pensiamo', 'ripagato', 'abiti', 'mentire', 'indossando', 'temo', 'oh', 'potrei', 'stazione', 'vasca', 'odiano', 'passe', 'impiega', 'conigli', 'mangiare', 'perdita', 'dipende', 'rifare', 'ultimo', 'capita', 'sci', 'dormire', 'sox', 'soffiato', 'soccorrermi', 'quelli', 'notizia', 'basso', 'tonnellata', 'cucchiaio', 'estivo', 'sparero', 'nostri', 'salutato', 'pere', 'mangiavo', 'delfino', 'piu', 'usciti', 'soffro', 'uccidera', 'strada', 'cacciatore', 'poca', 'chiamo', 'lavorando', 'inciampato', 'pregare', 'volevi', 'odioso', 'fabbrica', 'restera', 'prossima', 'sbagliassi', 'portafoglio', 'sordo', 'calcio', 'popolare', 'scommetto', 'successore', 'tra', 'zuccheriera', 'no', 'andrai', 'saltera', 'sbarazzati', 'lavoriamo', 'paraggi', 'soggiorno', 'calza', 'ritornare', 'macchine', 'piccante', 'lunghi', 'splendida', 'faremo', 'virus', 'festaiolo', 'conoscevo', 'differenza', 'deluso', 'intenzione', 'pitturato', 'scusami', 'lancia', 'speciale', 'farlo', 'ragione', 'scopri', 'pigro', 'prometto', 'codardo', 'quindi', 'colore', 'cavallo', 'vorrebbe', 'ero', 'commerciale', 'oro', 'ottenne', 'stretto', 'soffice', 'vengono', 'mancherete', 'padre', 'proviamoci', 'ufficiale', 'facciamo', 'piuttosto', 'pare', 'cardiaco', 'ansioso', 'contarci', 'magro', 'arrivata', 'passare', 'gatto', 'dal', 'avvocato', 'assaggiato', 'jazz', 'resistente', 'uniti', 'elementare', 'decolleremo', 'farci', 'esplodere', 'avido', 'incontrarti', 'crederti', 'potete', 'salvarmi', 'piacerebbe', 'favorevole', 'aspetti', 'amava', 'tiene', 'richiami', 'grazie', 'post', 'affamati', 'torte', 'tassa', 'possiamo', 'scendo', 'piovere', 'umile', 'secca', 'interessa', 'prestero', 'costruendo', 'unirai', 'tutto', 'piace', 'fallo', 'usalo', 'averne', 'light', 'natura', 'inviare', 'della', 'violentemente', 'anch', 'riuscire', 'cosa', 'finalmente', 'dita', 'umido', 'dog', 'riposarsi', 'leporino', 'anatra', 'calda', 'benissimo', 'laptop', 'penti', 'gommoso', 'suggerimento', 'lungo', 'rischio', 'iniziare', 'cesare', 'arma', 'guardiamo', 'conosce', 'scappare', 'storie', 'settimana', 'morte', 'amico', 'spaventoso', 'righello', 'banca', 'alba', 'ricevere', 'nevica', 'pianto', 'cio', 'permettere', 'fiducia', 'pasto', 'stai', 'nikon', 'monte', 'mamma', 'vincesse', 'pagarti', 'ovvio', 'riusciva', 'dicono', 'installare', 'destinati', 'mordendo', 'programma', 'indossa', 'gioia', 'nascondermi', 'finora', 'calato', 'onesti', 'alto', 'scatola', 'te', 'giardino', 'cambiarlo', 'apribottiglie', 'omosessuale', 'giocare', 'dimenticarlo', 'fuggire', 'scusa', 'criminale', 'magari', 'ricevuto', 'ma', 'conosci', 'bidone', 'folk', 'sorella', 'torni', 'dimostrato', 'prendono', 'traditore', 'biglietti', 'ingenuo', 'mattina', 'uccidere', 'questi', 'impiego', 'compiacerti', 'disturba', 'avessimo', 'sotto', 'cappelli', 'peggio', 'nom', 'terza', 'disse', 'osso', 'gregge', 'passato', 'viaggiate', 'cancello', 'ascolto', 'grigia', 'sbarazzarmene', 'bel', 'sparato', 'roulotte', 'mercante', 'and', 'avvertimento', 'impegnata', 'conosco', 'darlo', 'consegnato', 'chiacchiere', 'colori', 'domestici', 'stressante', 'petto', 'utilizzo', 'muoverci', 'guardate', 'gli', 'sedersi', 'sbarazzare', 'fossimo', 'esca', 'cliente', 'portami', 'mano', 'evitalo', 'avvertirli', 'durissima', 'idea', 'new', 'vivra', 'mille', 'eri', 'moltissimo', 'dici', 'neanche', 'mentira', 'cantare', 'parlarvi', 'piaciuta', 'picchiare', 'estendere', 'guanti', 'baciarla', 'pantaloni', 'suonare', 'avrebbe', 'turistico', 'infelice', 'leccapiedi', 'nome', 'duramente', 'crea', 'emotivo', 'fattoria', 'semina', 'scena', 'cantiamo', 'unirci', 'amare', 'schiena', 'elettrico', 'dolci', 'golfista', 'rimanevano', 'vincessi', 'crociera', 'ecco', 'il', 'raccontami', 'sperava', 'lista', 'costola', 'sbarazzero', 'proprio', 'fratelli', 'insufficienza', 'inglese', 'teniamoci', 'banchiere', 'torre', 'vedro', 'si', 'problema', 'bacerei', 'fumo', 'bicicletta', 'mangi', 'fissare', 'liz', 'vagone', 'chiara', 'bacero', 'tenerti', 'serena', 'fede', 'scrittore', 'appartiene', 'pensione', 'normalita', 'casino', 'votare', 'lunga', 'uccidermi', 'collera', 'fiamme', 'pera', 'alzarsi', 'torno', 'fortunati', 'leggilo', 'servizio', 'credi', 'sposarmi', 'rischi', 'agenda', 'inadatto', 'decisione', 'passi', 'maglietta', 'spada', 'canna', 'assicureremo', 'scavando', 'alzato', 'bocca', 'continuamente', 'stufo', 'single', 'fermata', 'riparando', 'mentre', 'lasciamo', 'dispiaccia', 'villaggio', 'figlia', 'dorma', 'studente', 'campo', 'sciocco', 'ipad', 'polizia', 'scioccato', 'ferma', 'guardarmi', 'cattivo', 'peggiore', 'prematrimoniale', 'dottore', 'consiglio', 'farcela', 'ho', 'partiamo', 'scrivergli', 'conduce', 'riparare', 'dirtelo', 'marciapiede', 'stanco', 'puo', 'amarti', 'regalato', 'educato', 'uniforme', 'golf', 'sicuri', 'nostro', 'uscirebbe', 'morira', 'giu', 'col', 'gettato', 'sospetto', 'involtini', 'italia', 'opossum', 'possibile', 'fidarsi', 'progetto', 'preoccupato', 'flauto', 'venditore', 'preparare', 'provarlo', 'ti', 'intrappolati', 'portali', 'ricordo', 'ingegnere', 'ha', 'poi', 'bionda', 'selvaggio', 'albergo', 'adottivo', 'prenderne', 'facile', 'attenzione', 'esperto', 'aspettiamo', 'durare', 'valeva', 'sfortunato', 'anti', 'alzarmi', 'ambasciata', 'fannullone', 'spazzolare', 'alzo', 'carpentiere', 'biro', 'eroe', 'fallire', 'andava', 'costava', 'comprarlo', 'bere', 'pezzo', 'lusso', 'idiota', 'accettato', 'controllera', 'odiare', 'nel', 'andando', 'toyota', 'chiamando', 'bevo', 'contare', 'coro', 'granola', 'comune', 'diventero', 'via', 'desideri', 'poteva', 'entro', 'pace', 'cercare', 'terribile', 'porta', 'gretto', 'acuto', 'mentiresti', 'night', 'curry', 'musicista', 'riposasse', 'sola', 'immorale', 'piange', 'costa', 'ricordi', 'pochi', 'esercito', 'diverta', 'bell', 'anni', 'terreni', 'debito', 'amerei', 'simile', 'dopo', 'proprietario', 'usarlo', 'testa', 'membro', 'sbarazzato', 'paura', 'avevi', 'sciando', 'ingordo', 'svegliato', 'raro', 'avuto', 'otto', 'finita', 'baciasse', 'morire', 'dovrei', 'mentirti', 'scacchi', 'conosciuto', 'quarto', 'dolciumi', 'fresco', 'capopattuglia', 'umore', 'trasloco', 'carbone', 'baciarlo', 'ragazza', 'assumo', 'appoggiarti', 'azione', 'abbassato', 'pilota', 'manchi', 'smoking', 'autista', 'scherzando', 'al', 'urlare', 'incontrati', 'fino', 'pesce', 'vede', 'vacca', 'chiedevo', 'piove', 'scopriamo', 'nascondere', 'battuto', 'lavando', 'riusciamo', 'scienza', 'professore', 'concerto', 'fango', 'parlera', 'lotta', 'scrivania', 'nei', 'fieri', 'lavorato', 'analyst', 'umano', 'piatti', 'leggere', 'trent', 'fidarti', 'innocente', 'finira', 'in', 'ospedale', 'quand', 'soccorso', 'hot', 'fosse', 'dimenticare', 'lavora', 'roma', 'attesa', 'museo', 'arrabbiato', 'niente', 'paziente', 'costati', 'preoccupazione', 'premio', 'cadde', 'muoia', 'fissarmi', 'sciatto', 'varrebbe', 'coinvolto', 'voleva', 'rosso', 'mancherai', 'muoverti', 'cowboy', 'ritornerai', 'volpe', 'radio', 'fanno', 'faremmo', 'fermarli', 'tenuto', 'strappero', 'bagnati', 'dovete', 'piacera', 'fallisca', 'undici', 'scuro', 'geloso', 'sprecando', 'stupidi', 'sogno', 'facciamolo', 'album', 'sentirti', 'amato', 'bravo', 'arrivera', 'rendero', 'mail', 'porteremo', 'kyoto', 'ridammi', 'sigillare', 'caldo', 'ammalato', 'york', 'avvertito', 'cd', 'nulla', 'mal', 'correggerti', 'batter', 'sembri', 'piantina', 'ripagare', 'unirmi', 'nero', 'vorresti', 'scortese', 'trovi', 'arrivando', 'conosca', 'medicine', 'manzo', 'svegliata', 'cresci', 'notizie', 'figo', 'andasse', 'ripagarla', 'far', 'con', 'usare', 'trovero', 'muoversi', 'volerne', 'abbaiando', 'friggimi', 'guardera', 'preoccupati', 'impieghera', 'vissuto', 'carina', 'nerd', 'averla', 'guarda', 'dirige', 'miei', 'prossimo', 'finestra', 'carino', 'gomma', 'impicciarmi', 'ricordarmi', 'incolpare', 'organo', 'gran', 'verrai', 'persone', 'realta', 'parlarti', 'ricevuta', 'intensa', 'vestirmi', 'vale', 'guida', 'rumore', 'notturna', 'cassetto', 'veramente', 'collaudatore', 'respiro', 'arca', 'chiacchierata', 'grossi', 'pronto', 'ragazzaccio', 'prendero', 'modella', 'riceve', 'sentiva']\n"
     ]
    }
   ],
   "source": [
    "print('Number of samples:', len(input_texts))\n",
    "print('Number of unique source language tokens:', len(source_vocab))\n",
    "print('Number of unique target language tokens:', len(target_vocab))\n",
    "print('Max sequence length of source language:', len1)\n",
    "print('Max sequence length of target language:', len2)\n",
    "print(\"Source Vocabulary\",source_vocab)\n",
    "print(\"Target Vocabulary\",target_vocab)"
   ]
  },
  {
   "cell_type": "markdown",
   "metadata": {
    "colab_type": "text",
    "id": "CuQ7B78BhLrx"
   },
   "source": [
    "**Task 3** \n",
    "\n",
    "---\n",
    "\n",
    "---\n",
    "\n",
    "*  Assign each unique word an integer value.\n",
    "*  Create word embedding for your vocabulary using pre-trained Glove embeddings (http://nlp.stanford.edu/data/glove.6B.zip)\n",
    "* Print the first line of the embeddings (see below) "
   ]
  },
  {
   "cell_type": "markdown",
   "metadata": {},
   "source": [
    "This section of the code tokenizes the source texts and target texts.<br>\n",
    "The code below uses Tokenizer function from Keras library. This section creates a unique index for all words in the source and target texts. The a sequence of unique indexes is created for all the texts in the source and target language.<br>\n",
    "Next the data is divided into training and test set. 80% of the data is used for training while 20% of the data will be used for testing the model."
   ]
  },
  {
   "cell_type": "code",
   "execution_count": 7,
   "metadata": {
    "colab": {},
    "colab_type": "code",
    "id": "pPq-c1tqfoRO"
   },
   "outputs": [],
   "source": [
    "# tokenize the inputs\n",
    "tokenizer_inputs = Tokenizer(num_words=MAX_NUM_WORDS)\n",
    "tokenizer_inputs.fit_on_texts(input_texts)\n",
    "input_sequences = tokenizer_inputs.texts_to_sequences(input_texts)\n",
    "\n",
    "word2idx_inputs = tokenizer_inputs.word_index\n",
    "\n",
    "max_len_input = max(len(s) for s in input_sequences)\n",
    "\n",
    "tokenizer_outputs = Tokenizer(num_words=MAX_NUM_WORDS, filters='')\n",
    "tokenizer_outputs.fit_on_texts(target_texts + target_texts_inputs) # inefficient, oh well\n",
    "target_sequences = tokenizer_outputs.texts_to_sequences(target_texts)\n",
    "target_sequences_inputs = tokenizer_outputs.texts_to_sequences(target_texts_inputs)\n",
    "\n",
    "word2idx_outputs = tokenizer_outputs.word_index\n",
    "\n",
    "num_words_output = len(word2idx_outputs) + 1\n",
    "\n",
    "max_len_target = max(len(s) for s in target_sequences)\n",
    "\n",
    "encoder_inputs = pad_sequences(input_sequences, maxlen=max_len_input)\n",
    "encoder_inputs, encoder_tests = encoder_inputs[:int(0.8*len(encoder_inputs))], encoder_inputs[int(0.8*len(encoder_inputs)):]\n",
    "\n",
    "decoder_inputs = pad_sequences(target_sequences_inputs, maxlen=max_len_target, padding='post')\n",
    "decoder_inputs, decoder_tests = decoder_inputs[:int(0.8*len(decoder_inputs))], decoder_inputs[int(0.8*len(decoder_inputs)):]\n",
    "\n",
    "decoder_targets = pad_sequences(target_sequences, maxlen=max_len_target, padding='post')\n",
    "decoder_targets, decoder_target_tests = decoder_targets[:int(0.8*len(decoder_targets))], decoder_targets[int(0.8*len(decoder_targets)):]"
   ]
  },
  {
   "cell_type": "markdown",
   "metadata": {},
   "source": [
    "This section of the code below reads glove embeddings of 100 dimension for each word to create word vectors for the source language i.e. English from the pre-trained embeddings file. A corresponding embedding matrix hashmap is created with the unique indexes for each word as the key with the embedding as value. The embeddings of words which is not present in the glove file is taken to be 0. This embedding matrix will be used as input for the encoder model"
   ]
  },
  {
   "cell_type": "code",
   "execution_count": 8,
   "metadata": {},
   "outputs": [],
   "source": [
    "word2vec = {}\n",
    "with open(r'glove.6B/glove.6B.100d.txt', encoding=\"utf8\") as f:\n",
    "    for line in f:\n",
    "        values = line.split()\n",
    "        word = values[0]\n",
    "        vec = np.asarray(values[1:], dtype='float32')\n",
    "        word2vec[word] = vec\n",
    "\n",
    "num_words = min(MAX_NUM_WORDS, len(word2idx_inputs) + 1)\n",
    "embedding_matrix = np.zeros((num_words, EMBEDDING_DIM))\n",
    "for word, i in word2idx_inputs.items():\n",
    "    if i < MAX_NUM_WORDS:\n",
    "        embedding_vector = word2vec.get(word)\n",
    "        if embedding_vector is not None:\n",
    "          # words not found in embedding index will be all zeros.\n",
    "          embedding_matrix[i] = embedding_vector"
   ]
  },
  {
   "cell_type": "code",
   "execution_count": 9,
   "metadata": {
    "colab": {},
    "colab_type": "code",
    "id": "I7G4tGZwgVUW"
   },
   "outputs": [
    {
     "name": "stdout",
     "output_type": "stream",
     "text": [
      "First Line:  i am a shy boy .\n",
      "Word to index representation of first line:  [  0   0   0   1  53   3 293 176]\n",
      "Glove embeddings of first line\n",
      "[0. 0. 0. 0. 0. 0. 0. 0. 0. 0. 0. 0. 0. 0. 0. 0. 0. 0. 0. 0. 0. 0. 0. 0.\n",
      " 0. 0. 0. 0. 0. 0. 0. 0. 0. 0. 0. 0. 0. 0. 0. 0. 0. 0. 0. 0. 0. 0. 0. 0.\n",
      " 0. 0. 0. 0. 0. 0. 0. 0. 0. 0. 0. 0. 0. 0. 0. 0. 0. 0. 0. 0. 0. 0. 0. 0.\n",
      " 0. 0. 0. 0. 0. 0. 0. 0. 0. 0. 0. 0. 0. 0. 0. 0. 0. 0. 0. 0. 0. 0. 0. 0.\n",
      " 0. 0. 0. 0.]\n",
      "[0. 0. 0. 0. 0. 0. 0. 0. 0. 0. 0. 0. 0. 0. 0. 0. 0. 0. 0. 0. 0. 0. 0. 0.\n",
      " 0. 0. 0. 0. 0. 0. 0. 0. 0. 0. 0. 0. 0. 0. 0. 0. 0. 0. 0. 0. 0. 0. 0. 0.\n",
      " 0. 0. 0. 0. 0. 0. 0. 0. 0. 0. 0. 0. 0. 0. 0. 0. 0. 0. 0. 0. 0. 0. 0. 0.\n",
      " 0. 0. 0. 0. 0. 0. 0. 0. 0. 0. 0. 0. 0. 0. 0. 0. 0. 0. 0. 0. 0. 0. 0. 0.\n",
      " 0. 0. 0. 0.]\n",
      "[0. 0. 0. 0. 0. 0. 0. 0. 0. 0. 0. 0. 0. 0. 0. 0. 0. 0. 0. 0. 0. 0. 0. 0.\n",
      " 0. 0. 0. 0. 0. 0. 0. 0. 0. 0. 0. 0. 0. 0. 0. 0. 0. 0. 0. 0. 0. 0. 0. 0.\n",
      " 0. 0. 0. 0. 0. 0. 0. 0. 0. 0. 0. 0. 0. 0. 0. 0. 0. 0. 0. 0. 0. 0. 0. 0.\n",
      " 0. 0. 0. 0. 0. 0. 0. 0. 0. 0. 0. 0. 0. 0. 0. 0. 0. 0. 0. 0. 0. 0. 0. 0.\n",
      " 0. 0. 0. 0.]\n",
      "[-0.046539    0.61966002  0.56647003 -0.46584001 -1.18900001  0.44599\n",
      "  0.066035    0.31909999  0.14679    -0.22119001  0.79238999  0.29905\n",
      "  0.16073     0.025324    0.18678001 -0.31000999 -0.28108001  0.60514998\n",
      " -1.0654      0.52476001  0.064152    1.03579998 -0.40779001 -0.38011\n",
      "  0.30801001  0.59964001 -0.26991001 -0.76034999  0.94221997 -0.46919\n",
      " -0.18278     0.90652001  0.79671001  0.24824999  0.25713     0.6232\n",
      " -0.44768     0.65357     0.76902002 -0.51229    -0.44332999 -0.21867\n",
      "  0.38370001 -1.14830005 -0.94397998 -0.15062     0.30012    -0.57805997\n",
      "  0.20175    -1.65910006 -0.079195    0.026423    0.22051001  0.99713999\n",
      " -0.57538998 -2.72659993  0.31448001  0.70521998  1.43809998  0.99125999\n",
      "  0.13976     1.34739995 -1.1753      0.0039503   1.02980006  0.064637\n",
      "  0.90886998  0.82871997 -0.47003001 -0.10575     0.5916     -0.42210001\n",
      "  0.57331002 -0.54114002  0.10768     0.39783999 -0.048744    0.064596\n",
      " -0.61436999 -0.28600001  0.50669998 -0.49757999 -0.81569999  0.16407999\n",
      " -1.96300006 -0.26693001 -0.37593001 -0.95846999 -0.85839999 -0.71577001\n",
      " -0.32343    -0.43121001  0.41391999  0.28374001 -0.70931     0.15003\n",
      " -0.2154     -0.37616    -0.032502    0.80620003]\n",
      "[-1.40220001e-01  2.46590003e-02  1.58130005e-01 -7.42529985e-04\n",
      " -1.27079999e+00  5.96350014e-01  3.05119995e-02  4.34769988e-01\n",
      "  2.88729995e-01 -3.32619995e-01  1.63530004e+00  5.38789988e-01\n",
      "  4.78540003e-01 -3.53060007e-01 -4.02649999e-01 -1.59309995e+00\n",
      " -4.84270006e-01 -2.62840003e-01 -4.26670015e-01  6.23640001e-01\n",
      "  1.64570004e-01  1.10280001e+00 -4.66060013e-01 -5.37970006e-01\n",
      "  2.35730007e-01  5.00959992e-01  1.04279995e+00  6.78299963e-02\n",
      "  7.97270000e-01  1.02180004e+00 -4.57159996e-01  1.31060004e+00\n",
      "  4.08309996e-01 -1.36199996e-01 -6.45679981e-02 -2.28180006e-01\n",
      " -5.68149984e-01  2.24079993e-02  6.81270003e-01 -4.58099991e-01\n",
      " -3.95469993e-01 -6.35110021e-01  4.12440002e-01 -2.60569990e-01\n",
      " -6.21070027e-01 -1.18139994e+00  8.34420025e-01 -6.05780005e-01\n",
      " -4.37009990e-01 -1.60990000e+00 -6.13380015e-01 -2.16409996e-01\n",
      "  6.63640022e-01  7.58819997e-01 -1.15199995e+00 -1.94410002e+00\n",
      "  3.24380010e-01  6.63020015e-01  1.19770002e+00 -2.74619997e-01\n",
      "  5.14509976e-01  9.62800026e-01 -1.20079994e+00 -7.34380007e-01\n",
      "  5.04939973e-01 -2.20750004e-01 -2.45460004e-01  2.58500010e-01\n",
      " -7.98539996e-01 -2.15240002e-01 -2.04510003e-01 -7.07729995e-01\n",
      "  2.41160005e-01 -5.61079979e-01  5.42639971e-01  2.27840006e-01\n",
      "  9.71650004e-01  1.10619999e-01 -8.45719993e-01 -6.43689990e-01\n",
      " -8.50030035e-02 -8.29980016e-01 -2.06599995e-01  1.77010000e-02\n",
      " -6.79840028e-01  2.42500007e-01 -4.89389986e-01  2.24659994e-01\n",
      " -8.14689994e-01 -2.64400005e-01  1.82990000e-01  5.22390008e-01\n",
      "  7.91249990e-01  9.13150012e-01 -4.33569998e-01  1.27599999e-01\n",
      " -1.21189997e-01 -6.47490025e-01  4.88660008e-01  1.54449999e-01]\n",
      "[-0.27085999  0.044006   -0.02026    -0.17395     0.6444      0.71213001\n",
      "  0.35510001  0.47138    -0.29637     0.54426998 -0.72294003 -0.0047612\n",
      "  0.040611    0.043236    0.29729     0.10725     0.40156001 -0.53662002\n",
      "  0.033382    0.067396    0.64556003 -0.085523    0.14103     0.094539\n",
      "  0.74947    -0.19400001 -0.68739003 -0.41740999 -0.22807001  0.12\n",
      " -0.48999     0.80944997  0.045138   -0.11898     0.20161     0.39276001\n",
      " -0.20121001  0.31354001  0.75304002  0.25907001 -0.11566    -0.029319\n",
      "  0.93498999 -0.36067     0.52420002  0.23706     0.52714998  0.22869\n",
      " -0.51958001 -0.79348999 -0.20367999 -0.50186998  0.18748     0.94282001\n",
      " -0.44834    -3.67919993  0.044183   -0.26751     2.19970012  0.241\n",
      " -0.033425    0.69553    -0.64472002 -0.0072277   0.89574999  0.20015\n",
      "  0.46493     0.61932999 -0.1066      0.08691    -0.4623      0.18262\n",
      " -0.15849     0.020791    0.19373     0.063426   -0.31672999 -0.48177001\n",
      " -1.38479996  0.13669001  0.96859002  0.049965   -0.27379999 -0.035686\n",
      " -1.05770004 -0.24467     0.90366    -0.12442     0.080776   -0.83401\n",
      "  0.57200998  0.088945   -0.42532    -0.018253   -0.079995   -0.28580999\n",
      " -0.01089    -0.4923      0.63687003  0.23642001]\n",
      "[-1.27360001e-01 -3.19090009e-01  9.34300005e-01 -3.32579985e-02\n",
      " -1.41420007e-01  7.51869977e-01 -1.81130007e-01 -3.85699987e-01\n",
      " -2.32850000e-01 -1.50460005e-01  4.05250013e-01 -2.12469995e-01\n",
      "  4.95389998e-01 -1.25969994e+00 -5.03019989e-02 -1.30750000e-01\n",
      " -8.39980006e-01  2.07709998e-01  4.69760001e-01  5.94690025e-01\n",
      "  4.47899997e-01  1.18079996e+00 -3.44559997e-02 -2.80109998e-02\n",
      "  5.73880017e-01  5.61309993e-01 -1.16110003e+00 -5.65630019e-01\n",
      "  4.78289992e-01  3.12750012e-01 -7.16139972e-02 -1.59549996e-01\n",
      "  7.31620014e-01 -2.25769997e-01  1.83160007e-01  2.19080001e-01\n",
      " -8.88400018e-01  2.01690003e-01 -2.58309990e-01  2.26060003e-01\n",
      "  4.75939989e-01 -5.05330026e-01  7.67460018e-02  1.30080000e-01\n",
      " -6.81640029e-01 -2.89889991e-01  3.98460001e-01  2.81540006e-01\n",
      "  9.66439992e-02 -5.45679986e-01  1.09219998e-01 -1.30579996e+00\n",
      "  6.99199975e-01  8.83780003e-01 -3.47799987e-01 -8.50860000e-01\n",
      " -7.45740011e-02 -3.37080002e-01  3.55870008e-01  3.69280018e-02\n",
      "  2.34520007e-02  2.27200001e-01 -6.69589996e-01  1.37019996e-02\n",
      " -7.17879971e-04  4.39060003e-01  1.04990005e+00  2.11840004e-01\n",
      " -1.43350005e-01 -2.16040000e-01 -1.40740007e-01  3.24090004e-01\n",
      " -6.36919975e-01 -5.06660007e-02 -4.67610002e-01  4.19730008e-01\n",
      " -5.28959990e-01 -5.43039978e-01 -4.40070003e-01 -8.90439987e-01\n",
      "  5.14040003e-03  3.40140015e-01 -1.56079993e-01 -3.01209986e-01\n",
      " -1.80340004e+00 -4.00339991e-01  1.42519996e-01  2.87189990e-01\n",
      "  3.73290002e-01  1.66649997e-01 -2.93859988e-01  1.63580000e-01\n",
      " -6.13830015e-02 -3.88240010e-01 -7.70850003e-01  3.08319986e-01\n",
      " -3.32520008e-01 -3.92179996e-01 -6.09790027e-01 -7.42049992e-01]\n",
      "[ 0.89460999  0.37757999  0.42067    -0.51334    -0.28298     1.00119996\n",
      "  0.18748     0.21867999 -0.030053    0.086727   -0.44626001  0.34755\n",
      "  0.61515999  0.31582999  0.56542999  0.40314001  0.45648    -0.39995\n",
      " -0.20669     0.84974998 -0.016242   -0.28152001 -0.052972   -0.19438\n",
      "  0.35782999  0.89043999 -0.92628002 -0.88331997  0.089802    1.38559997\n",
      "  0.11884     0.36607999  0.44009     0.51617002  0.35073999 -0.24372999\n",
      " -0.68049002  0.13276     0.78618002 -0.52530003 -0.28546     0.30342001\n",
      "  0.23909    -0.65424001 -0.15926     0.20785999 -0.69261998  0.25893\n",
      "  0.65051001 -0.091278   -0.36572    -0.20873     0.18074     1.15600002\n",
      " -0.01657    -1.95469999 -0.67290002  0.029884    0.93844002  0.74598002\n",
      "  0.80694002  1.01289999 -0.51853001 -0.21152     0.35337001  0.047413\n",
      "  0.75147998  0.31402001 -0.42139     0.29954001  0.32677001  0.12179\n",
      " -0.19638     0.12718999  0.041816    1.04999995  0.17703     0.08307\n",
      " -0.51415002 -0.6523      0.17147     0.37803     0.1107     -0.25518\n",
      " -1.07120001 -0.51485002 -0.38163    -0.42313999  0.13503     0.014892\n",
      "  0.11282     0.26315001  0.20852    -0.016587   -0.40463001 -0.15909\n",
      " -0.71309    -0.13668001  0.04035    -0.84151   ]\n"
     ]
    }
   ],
   "source": [
    "# print first line of embeddings here)\n",
    "first_line = encoder_inputs[0]\n",
    "print(\"First Line: \",input_texts[0])\n",
    "print(\"Word to index representation of first line: \", first_line)\n",
    "\n",
    "print(\"Glove embeddings of first line\")\n",
    "for index in first_line:\n",
    "    print(embedding_matrix[index])"
   ]
  },
  {
   "cell_type": "markdown",
   "metadata": {
    "colab_type": "text",
    "id": "2QfLgKEgazro"
   },
   "source": [
    "## Section 2 Translation Model training\n",
    "\n",
    "\n",
    "\n",
    "---\n",
    "\n"
   ]
  },
  {
   "cell_type": "markdown",
   "metadata": {
    "colab_type": "text",
    "id": "Y8WnlX8d0RVj"
   },
   "source": [
    "**Task 4**\n",
    "* Provide code for the encoder using Keras LSTM\n",
    "* Provide code for the decoder using Keras LSTM\n",
    "* Train the sequence2sequence (encoder-decoder) model\n"
   ]
  },
  {
   "cell_type": "markdown",
   "metadata": {},
   "source": [
    "The code is the section below is used for creating embedding layer which will be used for providing input to the encoder."
   ]
  },
  {
   "cell_type": "code",
   "execution_count": 10,
   "metadata": {},
   "outputs": [
    {
     "name": "stdout",
     "output_type": "stream",
     "text": [
      "WARNING:tensorflow:From C:\\Users\\grohi\\Anaconda3\\lib\\site-packages\\keras\\backend\\tensorflow_backend.py:64: The name tf.get_default_graph is deprecated. Please use tf.compat.v1.get_default_graph instead.\n",
      "\n"
     ]
    }
   ],
   "source": [
    "# create embedding layer\n",
    "embedding_layer = Embedding(num_words,EMBEDDING_DIM,weights=[embedding_matrix],input_length=max_len_input)\n",
    "\n",
    "decoder_targets_one_hot = np.zeros((int(0.8*len(input_texts)), max_len_target, num_words_output), dtype='float32' )\n",
    "\n",
    "for i, d in enumerate(decoder_targets):\n",
    "    for t, word in enumerate(d):\n",
    "        if word != 0:\n",
    "            decoder_targets_one_hot[i, t, word] = 1"
   ]
  },
  {
   "cell_type": "markdown",
   "metadata": {},
   "source": [
    "The code in the section below is used for creating encoder and decoder."
   ]
  },
  {
   "cell_type": "code",
   "execution_count": 11,
   "metadata": {
    "colab": {},
    "colab_type": "code",
    "id": "F_sLH38o0BJq"
   },
   "outputs": [
    {
     "name": "stdout",
     "output_type": "stream",
     "text": [
      "WARNING:tensorflow:From C:\\Users\\grohi\\Anaconda3\\lib\\site-packages\\keras\\backend\\tensorflow_backend.py:497: The name tf.placeholder is deprecated. Please use tf.compat.v1.placeholder instead.\n",
      "\n",
      "WARNING:tensorflow:From C:\\Users\\grohi\\Anaconda3\\lib\\site-packages\\keras\\backend\\tensorflow_backend.py:3636: The name tf.random_uniform is deprecated. Please use tf.random.uniform instead.\n",
      "\n",
      "WARNING:tensorflow:From C:\\Users\\grohi\\Anaconda3\\lib\\site-packages\\keras\\backend\\tensorflow_backend.py:159: The name tf.get_default_session is deprecated. Please use tf.compat.v1.get_default_session instead.\n",
      "\n",
      "WARNING:tensorflow:From C:\\Users\\grohi\\Anaconda3\\lib\\site-packages\\keras\\backend\\tensorflow_backend.py:164: The name tf.ConfigProto is deprecated. Please use tf.compat.v1.ConfigProto instead.\n",
      "\n",
      "WARNING:tensorflow:From C:\\Users\\grohi\\Anaconda3\\lib\\site-packages\\keras\\backend\\tensorflow_backend.py:169: The name tf.Session is deprecated. Please use tf.compat.v1.Session instead.\n",
      "\n",
      "WARNING:tensorflow:From C:\\Users\\grohi\\Anaconda3\\lib\\site-packages\\keras\\backend\\tensorflow_backend.py:173: The name tf.global_variables is deprecated. Please use tf.compat.v1.global_variables instead.\n",
      "\n",
      "WARNING:tensorflow:From C:\\Users\\grohi\\Anaconda3\\lib\\site-packages\\keras\\backend\\tensorflow_backend.py:182: The name tf.is_variable_initialized is deprecated. Please use tf.compat.v1.is_variable_initialized instead.\n",
      "\n",
      "WARNING:tensorflow:From C:\\Users\\grohi\\Anaconda3\\lib\\site-packages\\keras\\backend\\tensorflow_backend.py:189: The name tf.variables_initializer is deprecated. Please use tf.compat.v1.variables_initializer instead.\n",
      "\n",
      "WARNING:tensorflow:From C:\\Users\\grohi\\Anaconda3\\lib\\site-packages\\keras\\backend\\tensorflow_backend.py:1247: calling reduce_sum_v1 (from tensorflow.python.ops.math_ops) with keep_dims is deprecated and will be removed in a future version.\n",
      "Instructions for updating:\n",
      "keep_dims is deprecated, use keepdims instead\n"
     ]
    }
   ],
   "source": [
    "# encoder code goes here\n",
    "encoder_inputs_placeholder = Input(shape=(max_len_input,))\n",
    "x = embedding_layer(encoder_inputs_placeholder)\n",
    "encoder = LSTM(\n",
    "  LATENT_DIM,\n",
    "  return_state=True,\n",
    ")\n",
    "encoder_outputs, h, c = encoder(x)\n",
    "\n",
    "encoder_states = [h, c]"
   ]
  },
  {
   "cell_type": "code",
   "execution_count": 12,
   "metadata": {
    "colab": {},
    "colab_type": "code",
    "id": "erw3s9vI0scb"
   },
   "outputs": [
    {
     "name": "stdout",
     "output_type": "stream",
     "text": [
      "WARNING:tensorflow:From C:\\Users\\grohi\\Anaconda3\\lib\\site-packages\\keras\\backend\\tensorflow_backend.py:1213: calling reduce_max_v1 (from tensorflow.python.ops.math_ops) with keep_dims is deprecated and will be removed in a future version.\n",
      "Instructions for updating:\n",
      "keep_dims is deprecated, use keepdims instead\n"
     ]
    }
   ],
   "source": [
    "# decoder code goes here\n",
    "decoder_inputs_placeholder = Input(shape=(max_len_target,))\n",
    "\n",
    "decoder_embedding = Embedding(num_words_output, EMBEDDING_DIM)\n",
    "decoder_inputs_x = decoder_embedding(decoder_inputs_placeholder)\n",
    "\n",
    "decoder_lstm = LSTM(\n",
    "  LATENT_DIM,\n",
    "  return_sequences=True,\n",
    "  return_state=True,\n",
    ")\n",
    "decoder_outputs, _, _ = decoder_lstm(\n",
    "  decoder_inputs_x,\n",
    "  initial_state=encoder_states\n",
    ")\n",
    "\n",
    "decoder_dense = Dense(num_words_output, activation='softmax')\n",
    "decoder_outputs = decoder_dense(decoder_outputs)"
   ]
  },
  {
   "cell_type": "markdown",
   "metadata": {},
   "source": [
    "Defining the model and printing a summary of the layers in the model"
   ]
  },
  {
   "cell_type": "code",
   "execution_count": 13,
   "metadata": {
    "colab": {},
    "colab_type": "code",
    "id": "xe3hV0b00uJN"
   },
   "outputs": [
    {
     "name": "stdout",
     "output_type": "stream",
     "text": [
      "WARNING:tensorflow:From C:\\Users\\grohi\\Anaconda3\\lib\\site-packages\\keras\\optimizers.py:711: The name tf.train.Optimizer is deprecated. Please use tf.compat.v1.train.Optimizer instead.\n",
      "\n",
      "WARNING:tensorflow:From C:\\Users\\grohi\\Anaconda3\\lib\\site-packages\\keras\\backend\\tensorflow_backend.py:2889: The name tf.log is deprecated. Please use tf.math.log instead.\n",
      "\n",
      "__________________________________________________________________________________________________\n",
      "Layer (type)                    Output Shape         Param #     Connected to                     \n",
      "==================================================================================================\n",
      "input_1 (InputLayer)            (None, 8)            0                                            \n",
      "__________________________________________________________________________________________________\n",
      "input_2 (InputLayer)            (None, 12)           0                                            \n",
      "__________________________________________________________________________________________________\n",
      "embedding_1 (Embedding)         (None, 8, 100)       235200      input_1[0][0]                    \n",
      "__________________________________________________________________________________________________\n",
      "embedding_2 (Embedding)         (None, 12, 100)      384400      input_2[0][0]                    \n",
      "__________________________________________________________________________________________________\n",
      "lstm_1 (LSTM)                   [(None, 256), (None, 365568      embedding_1[0][0]                \n",
      "__________________________________________________________________________________________________\n",
      "lstm_2 (LSTM)                   [(None, 12, 256), (N 365568      embedding_2[0][0]                \n",
      "                                                                 lstm_1[0][1]                     \n",
      "                                                                 lstm_1[0][2]                     \n",
      "__________________________________________________________________________________________________\n",
      "dense_1 (Dense)                 (None, 12, 3844)     987908      lstm_2[0][0]                     \n",
      "==================================================================================================\n",
      "Total params: 2,338,644\n",
      "Trainable params: 2,338,644\n",
      "Non-trainable params: 0\n",
      "__________________________________________________________________________________________________\n"
     ]
    }
   ],
   "source": [
    "model = Model([encoder_inputs_placeholder, decoder_inputs_placeholder], decoder_outputs)\n",
    "model.compile(optimizer='rmsprop', loss='categorical_crossentropy', metrics=['accuracy'])\n",
    "model.summary()"
   ]
  },
  {
   "cell_type": "markdown",
   "metadata": {},
   "source": [
    "Training the model on the data and saving the trained model"
   ]
  },
  {
   "cell_type": "code",
   "execution_count": 14,
   "metadata": {
    "colab": {},
    "colab_type": "code",
    "id": "ovWQs8KG09we",
    "scrolled": true
   },
   "outputs": [
    {
     "name": "stdout",
     "output_type": "stream",
     "text": [
      "WARNING:tensorflow:From C:\\Users\\grohi\\Anaconda3\\lib\\site-packages\\tensorflow_core\\python\\ops\\math_grad.py:1424: where (from tensorflow.python.ops.array_ops) is deprecated and will be removed in a future version.\n",
      "Instructions for updating:\n",
      "Use tf.where in 2.0, which has the same broadcast rule as np.where\n",
      "WARNING:tensorflow:From C:\\Users\\grohi\\Anaconda3\\lib\\site-packages\\keras\\backend\\tensorflow_backend.py:680: calling Constant.__init__ (from tensorflow.python.ops.init_ops) with dtype is deprecated and will be removed in a future version.\n",
      "Instructions for updating:\n",
      "Call initializer instance with the dtype argument instead of passing it to the constructor\n",
      "WARNING:tensorflow:From C:\\Users\\grohi\\Anaconda3\\lib\\site-packages\\keras\\backend\\tensorflow_backend.py:958: The name tf.assign_add is deprecated. Please use tf.compat.v1.assign_add instead.\n",
      "\n",
      "WARNING:tensorflow:From C:\\Users\\grohi\\Anaconda3\\lib\\site-packages\\keras\\backend\\tensorflow_backend.py:945: The name tf.assign is deprecated. Please use tf.compat.v1.assign instead.\n",
      "\n",
      "Train on 7200 samples, validate on 800 samples\n",
      "Epoch 1/20\n",
      "7200/7200 [==============================] - 37s 5ms/step - loss: 2.4981 - acc: 0.1469 - val_loss: 2.2746 - val_acc: 0.2057\n",
      "Epoch 2/20\n",
      "7200/7200 [==============================] - 34s 5ms/step - loss: 2.0065 - acc: 0.2170 - val_loss: 2.0151 - val_acc: 0.2525\n",
      "Epoch 3/20\n",
      "7200/7200 [==============================] - 35s 5ms/step - loss: 1.7184 - acc: 0.2510 - val_loss: 1.8283 - val_acc: 0.2756\n",
      "Epoch 4/20\n",
      "7200/7200 [==============================] - 35s 5ms/step - loss: 1.5106 - acc: 0.2798 - val_loss: 1.6437 - val_acc: 0.2975\n",
      "Epoch 5/20\n",
      "7200/7200 [==============================] - 35s 5ms/step - loss: 1.3536 - acc: 0.3007 - val_loss: 1.5672 - val_acc: 0.3128\n",
      "Epoch 6/20\n",
      "7200/7200 [==============================] - 35s 5ms/step - loss: 1.2250 - acc: 0.3189 - val_loss: 1.4813 - val_acc: 0.3228\n",
      "Epoch 7/20\n",
      "7200/7200 [==============================] - 35s 5ms/step - loss: 1.1142 - acc: 0.3351 - val_loss: 1.3729 - val_acc: 0.3470\n",
      "Epoch 8/20\n",
      "7200/7200 [==============================] - 36s 5ms/step - loss: 1.0167 - acc: 0.3510 - val_loss: 1.3060 - val_acc: 0.3598\n",
      "Epoch 9/20\n",
      "7200/7200 [==============================] - 35s 5ms/step - loss: 0.9260 - acc: 0.3653 - val_loss: 1.2709 - val_acc: 0.3652\n",
      "Epoch 10/20\n",
      "7200/7200 [==============================] - 36s 5ms/step - loss: 0.8450 - acc: 0.3793 - val_loss: 1.2257 - val_acc: 0.3724\n",
      "Epoch 11/20\n",
      "7200/7200 [==============================] - 35s 5ms/step - loss: 0.7725 - acc: 0.3919 - val_loss: 1.2010 - val_acc: 0.3785\n",
      "Epoch 12/20\n",
      "7200/7200 [==============================] - 35s 5ms/step - loss: 0.7075 - acc: 0.4050 - val_loss: 1.2040 - val_acc: 0.3792\n",
      "Epoch 13/20\n",
      "7200/7200 [==============================] - 35s 5ms/step - loss: 0.6473 - acc: 0.4168 - val_loss: 1.1440 - val_acc: 0.3859\n",
      "Epoch 14/20\n",
      "7200/7200 [==============================] - 35s 5ms/step - loss: 0.5941 - acc: 0.4267 - val_loss: 1.1327 - val_acc: 0.3902\n",
      "Epoch 15/20\n",
      "7200/7200 [==============================] - 37s 5ms/step - loss: 0.5442 - acc: 0.4364 - val_loss: 1.1070 - val_acc: 0.3916\n",
      "Epoch 16/20\n",
      "7200/7200 [==============================] - 35s 5ms/step - loss: 0.4995 - acc: 0.4452 - val_loss: 1.1105 - val_acc: 0.3932\n",
      "Epoch 17/20\n",
      "7200/7200 [==============================] - 35s 5ms/step - loss: 0.4597 - acc: 0.4527 - val_loss: 1.0927 - val_acc: 0.3974\n",
      "Epoch 18/20\n",
      "7200/7200 [==============================] - 35s 5ms/step - loss: 0.4213 - acc: 0.4613 - val_loss: 1.0918 - val_acc: 0.3934\n",
      "Epoch 19/20\n",
      "7200/7200 [==============================] - 35s 5ms/step - loss: 0.3868 - acc: 0.4681 - val_loss: 1.0814 - val_acc: 0.3981\n",
      "Epoch 20/20\n",
      "7200/7200 [==============================] - 36s 5ms/step - loss: 0.3537 - acc: 0.4763 - val_loss: 1.0770 - val_acc: 0.4005\n"
     ]
    },
    {
     "name": "stderr",
     "output_type": "stream",
     "text": [
      "C:\\Users\\grohi\\Anaconda3\\lib\\site-packages\\keras\\engine\\topology.py:2344: UserWarning: Layer lstm_2 was passed non-serializable keyword arguments: {'initial_state': [<tf.Tensor 'lstm_1/while/Exit_2:0' shape=(?, 256) dtype=float32>, <tf.Tensor 'lstm_1/while/Exit_3:0' shape=(?, 256) dtype=float32>]}. They will not be included in the serialized model (and thus will be missing at deserialization time).\n",
      "  str(node.arguments) + '. They will not be included '\n"
     ]
    }
   ],
   "source": [
    "model.fit(\n",
    "  [encoder_inputs, decoder_inputs], decoder_targets_one_hot,\n",
    "  batch_size=BATCH_SIZE,\n",
    "  epochs=EPOCHS,\n",
    "  validation_split=0.1,\n",
    ") \n",
    "model.save('seq2seq_source_target.h5')"
   ]
  },
  {
   "cell_type": "markdown",
   "metadata": {
    "colab_type": "text",
    "id": "0Sy_WCp31x79"
   },
   "source": [
    "## Section 3 Testing\n",
    "\n",
    "---\n",
    "\n",
    "**Task 5**\n",
    "\n",
    "* Use the trained model to translate the text from the source into the target language. \n",
    "* Use the test/evaluation set (see Section 1) and perform an automatic evaluation with the BLEU metric. \n",
    "You can use the NLTK library to calculate BLEU."
   ]
  },
  {
   "cell_type": "markdown",
   "metadata": {},
   "source": [
    "This section uses the encoder and decoder model weights to create a model which will be used for for prediction.<br>\n",
    "A fucntion decode_sequence() is defined which takes a input seq of indexes for the words. This function predicts words for the translated language. "
   ]
  },
  {
   "cell_type": "code",
   "execution_count": 15,
   "metadata": {
    "colab": {},
    "colab_type": "code",
    "id": "lXg4Nacd253k"
   },
   "outputs": [],
   "source": [
    "encoder_model = Model(encoder_inputs_placeholder, encoder_states)\n",
    "\n",
    "decoder_state_input_h = Input(shape=(LATENT_DIM,))\n",
    "decoder_state_input_c = Input(shape=(LATENT_DIM,))\n",
    "decoder_states_inputs = [decoder_state_input_h, decoder_state_input_c]\n",
    "\n",
    "decoder_inputs_single = Input(shape=(1,))\n",
    "decoder_inputs_single_x = decoder_embedding(decoder_inputs_single)\n",
    "\n",
    "decoder_outputs, h, c = decoder_lstm(\n",
    "  decoder_inputs_single_x,\n",
    "  initial_state=decoder_states_inputs\n",
    ")\n",
    "decoder_states = [h, c]\n",
    "decoder_outputs = decoder_dense(decoder_outputs)\n",
    "\n",
    "decoder_model = Model(\n",
    "  [decoder_inputs_single] + decoder_states_inputs, \n",
    "  [decoder_outputs] + decoder_states\n",
    ")\n",
    "\n",
    "idx2word_eng = {v:k for k, v in word2idx_inputs.items()}\n",
    "idx2word_trans = {v:k for k, v in word2idx_outputs.items()}\n",
    "\n",
    "def decode_sequence(input_seq):\n",
    "    states_value = encoder_model.predict(input_seq)\n",
    "    target_seq = np.zeros((1, 1))\n",
    "    target_seq[0, 0] = word2idx_outputs['<bof>']\n",
    "    eos = word2idx_outputs['<eos>']\n",
    "\n",
    "    # Create the translation\n",
    "    output_sentence = []\n",
    "    for _ in range(max_len_target):\n",
    "        output_tokens, h, c = decoder_model.predict(\n",
    "          [target_seq] + states_value)\n",
    "\n",
    "        # Get the next word\n",
    "        idx = np.argmax(output_tokens[0, 0, :])\n",
    "\n",
    "        # check if end of sentence tag is generated for break\n",
    "        if eos == idx:\n",
    "          break\n",
    "\n",
    "        word = ''\n",
    "        if idx > 0:\n",
    "          word = idx2word_trans[idx]\n",
    "          output_sentence.append(word)\n",
    "\n",
    "        target_seq[0, 0] = idx\n",
    "\n",
    "        states_value = [h, c]\n",
    "\n",
    "    return ' '.join(output_sentence)"
   ]
  },
  {
   "cell_type": "markdown",
   "metadata": {},
   "source": [
    "BLEU score is calculated for the test data. Then a average bleu score is calculated. <br>\n",
    "Average BLEU score for Seq2Seq model without attentions is **0.391**"
   ]
  },
  {
   "cell_type": "code",
   "execution_count": 16,
   "metadata": {},
   "outputs": [
    {
     "name": "stdout",
     "output_type": "stream",
     "text": [
      "Average BLEU Score for Seq2Seq model without attention:  0.39165789159749353\n"
     ]
    }
   ],
   "source": [
    "#BLEU Score Calculation\n",
    "avg = 0\n",
    "from nltk import bleu\n",
    "from nltk.translate.bleu_score import SmoothingFunction\n",
    "smoothing = SmoothingFunction()\n",
    "\n",
    "for i in range(len(encoder_tests)):\n",
    "    translation = decode_sequence(encoder_tests[i:i+1])\n",
    "    hyp = translation.split()\n",
    "    target_text = target_texts[int(0.8*len(input_texts))+i].split()\n",
    "    ref = target_text[:len(target_text)-1]\n",
    "    BLEUscore = bleu([ref], hyp, smoothing_function=smoothing.method2)\n",
    "    #print(hyp,ref,BLEUscore)\n",
    "    avg+=BLEUscore\n",
    "print(\"Average BLEU Score for Seq2Seq model without attention: \",avg/(i+1))"
   ]
  },
  {
   "cell_type": "markdown",
   "metadata": {
    "colab_type": "text",
    "id": "wb4F1-a00Hw6"
   },
   "source": [
    "# Section 4 Attention\n",
    "\n",
    "---\n",
    "\n"
   ]
  },
  {
   "cell_type": "markdown",
   "metadata": {
    "colab_type": "text",
    "id": "6XTD-fCC1yUA"
   },
   "source": [
    "**Task 5** <br><br>\n",
    "Sequence2Sequence\n",
    "\n",
    "* Extend the existing Seq2Seq model with an attention mechanism\n",
    "* Create sequence2sequence model with attention \n",
    "* Train the model with the same data from Section 1 \n",
    "* Translate the evaluation set using the sequence2sequence attention model \n",
    "* Evaluate the translations made with the sequence2sequence attention model and compare it with the model without attention using BLEU "
   ]
  },
  {
   "cell_type": "markdown",
   "metadata": {},
   "source": [
    "Seq2Seq encoder decoder model with attention is coded. The same source language texts will be used for the new model. Instead of a regualar LSTM, Bidirection LSTM will be used for the encoder model. Attention is performed this model which improves the bleu score. The bleu score for this model after attenntion is **0.421**"
   ]
  },
  {
   "cell_type": "code",
   "execution_count": 17,
   "metadata": {},
   "outputs": [],
   "source": [
    "def softmax_over_time(x):\n",
    "    assert(K.ndim(x) > 2)\n",
    "    e = K.exp(x - K.max(x, axis=1, keepdims=True))\n",
    "    s = K.sum(e, axis=1, keepdims=True)\n",
    "    return e / s\n",
    "\n",
    "LATENT_DIM = 400 # Latent dimension of LSTM model for encoder.\n",
    "LATENT_DIM_DECODER = 400 # Latent dimension of LSTM model for decoder.\n",
    "EPOCHS = 30  # Number of epochs for training.\n",
    "\n",
    "encoder_inputs_placeholder = Input(shape=(max_len_input,))\n",
    "x = embedding_layer(encoder_inputs_placeholder)\n",
    "encoder = Bidirectional(LSTM(\n",
    "  LATENT_DIM,\n",
    "  return_sequences=True,\n",
    "  # dropout=0.5 \n",
    "))\n",
    "encoder_outputs = encoder(x)\n",
    "\n",
    "decoder_inputs_placeholder = Input(shape=(max_len_target,))\n",
    "\n",
    "decoder_embedding = Embedding(num_words_output, EMBEDDING_DIM)\n",
    "decoder_inputs_x = decoder_embedding(decoder_inputs_placeholder)\n",
    "\n",
    "# Attention \n",
    "attn_repeat_layer = RepeatVector(max_len_input)\n",
    "attn_concat_layer = Concatenate(axis=-1)\n",
    "attn_dense1 = Dense(10, activation='tanh')\n",
    "attn_dense2 = Dense(1, activation=softmax_over_time)\n",
    "attn_dot = Dot(axes=1) \n",
    "\n",
    "def one_step_attention(h, st_1):\n",
    "    st_1 = attn_repeat_layer(st_1)\n",
    "    x = attn_concat_layer([h, st_1])\n",
    "    x = attn_dense1(x)\n",
    "    alphas = attn_dense2(x)\n",
    "    context = attn_dot([alphas, h])\n",
    "    return context\n",
    "\n",
    "\n",
    "# the decoder (after attention)\n",
    "decoder_lstm = LSTM(LATENT_DIM_DECODER, return_state=True)\n",
    "decoder_dense = Dense(num_words_output, activation='softmax')\n",
    "\n",
    "initial_s = Input(shape=(LATENT_DIM_DECODER,), name='s0')\n",
    "initial_c = Input(shape=(LATENT_DIM_DECODER,), name='c0')\n",
    "context_last_word_concat_layer = Concatenate(axis=2)\n",
    "\n",
    "s = initial_s\n",
    "c = initial_c\n",
    "\n",
    "outputs = []\n",
    "for t in range(max_len_target): \n",
    "  \n",
    "    context = one_step_attention(encoder_outputs, s)\n",
    "    selector = Lambda(lambda x: x[:, t:t+1])\n",
    "    xt = selector(decoder_inputs_x)\n",
    "\n",
    "    decoder_lstm_input = context_last_word_concat_layer([context, xt])\n",
    "    o, s, c = decoder_lstm(decoder_lstm_input, initial_state=[s, c])\n",
    "\n",
    "    decoder_outputs = decoder_dense(o)\n",
    "    outputs.append(decoder_outputs)\n",
    "\n",
    "\n",
    "\n",
    "def stack_and_transpose(x):\n",
    "    x = K.stack(x)\n",
    "    x = K.permute_dimensions(x, pattern=(1, 0, 2)) \n",
    "    return x\n",
    "\n",
    "stacker = Lambda(stack_and_transpose)\n",
    "outputs = stacker(outputs)\n",
    "\n",
    "# create the model\n",
    "model = Model(\n",
    "  inputs=[\n",
    "    encoder_inputs_placeholder,\n",
    "    decoder_inputs_placeholder,\n",
    "    initial_s, \n",
    "    initial_c,\n",
    "  ],\n",
    "  outputs=outputs\n",
    ")"
   ]
  },
  {
   "cell_type": "code",
   "execution_count": 18,
   "metadata": {
    "scrolled": true
   },
   "outputs": [
    {
     "name": "stdout",
     "output_type": "stream",
     "text": [
      "Train on 7200 samples, validate on 800 samples\n",
      "Epoch 1/30\n",
      "7200/7200 [==============================] - 106s 15ms/step - loss: 2.4522 - acc: 0.1490 - val_loss: 2.1789 - val_acc: 0.2287\n",
      "Epoch 2/30\n",
      "7200/7200 [==============================] - 99s 14ms/step - loss: 1.8100 - acc: 0.2427 - val_loss: 1.8106 - val_acc: 0.2791\n",
      "Epoch 3/30\n",
      "7200/7200 [==============================] - 96s 13ms/step - loss: 1.4635 - acc: 0.2885 - val_loss: 1.5673 - val_acc: 0.3098\n",
      "Epoch 4/30\n",
      "7200/7200 [==============================] - 95s 13ms/step - loss: 1.2390 - acc: 0.3188 - val_loss: 1.4223 - val_acc: 0.3367\n",
      "Epoch 5/30\n",
      "7200/7200 [==============================] - 95s 13ms/step - loss: 1.0707 - acc: 0.3451 - val_loss: 1.3331 - val_acc: 0.3527\n",
      "Epoch 6/30\n",
      "7200/7200 [==============================] - 97s 13ms/step - loss: 0.9351 - acc: 0.3664 - val_loss: 1.2634 - val_acc: 0.3689\n",
      "Epoch 7/30\n",
      "7200/7200 [==============================] - 96s 13ms/step - loss: 0.8225 - acc: 0.3849 - val_loss: 1.2309 - val_acc: 0.3709\n",
      "Epoch 8/30\n",
      "7200/7200 [==============================] - 95s 13ms/step - loss: 0.7258 - acc: 0.4025 - val_loss: 1.1758 - val_acc: 0.3819\n",
      "Epoch 9/30\n",
      "7200/7200 [==============================] - 96s 13ms/step - loss: 0.6424 - acc: 0.4172 - val_loss: 1.1637 - val_acc: 0.3839\n",
      "Epoch 10/30\n",
      "7200/7200 [==============================] - 97s 13ms/step - loss: 0.5629 - acc: 0.4321 - val_loss: 1.1193 - val_acc: 0.3930\n",
      "Epoch 11/30\n",
      "7200/7200 [==============================] - 96s 13ms/step - loss: 0.4937 - acc: 0.4450 - val_loss: 1.0975 - val_acc: 0.3952\n",
      "Epoch 12/30\n",
      "7200/7200 [==============================] - 97s 13ms/step - loss: 0.4347 - acc: 0.4574 - val_loss: 1.1092 - val_acc: 0.3977\n",
      "Epoch 13/30\n",
      "7200/7200 [==============================] - 97s 13ms/step - loss: 0.3805 - acc: 0.4683 - val_loss: 1.0590 - val_acc: 0.3990\n",
      "Epoch 14/30\n",
      "7200/7200 [==============================] - 95s 13ms/step - loss: 0.3340 - acc: 0.4784 - val_loss: 1.0649 - val_acc: 0.4007\n",
      "Epoch 15/30\n",
      "7200/7200 [==============================] - 95s 13ms/step - loss: 0.2899 - acc: 0.4875 - val_loss: 1.0658 - val_acc: 0.4045\n",
      "Epoch 16/30\n",
      "7200/7200 [==============================] - 95s 13ms/step - loss: 0.2525 - acc: 0.4953 - val_loss: 1.0470 - val_acc: 0.4047\n",
      "Epoch 17/30\n",
      "7200/7200 [==============================] - 98s 14ms/step - loss: 0.2202 - acc: 0.5020 - val_loss: 1.0611 - val_acc: 0.4052\n",
      "Epoch 18/30\n",
      "7200/7200 [==============================] - 96s 13ms/step - loss: 0.1911 - acc: 0.5085 - val_loss: 1.0623 - val_acc: 0.4072\n",
      "Epoch 19/30\n",
      "7200/7200 [==============================] - 97s 13ms/step - loss: 0.1639 - acc: 0.5146 - val_loss: 1.0589 - val_acc: 0.4078\n",
      "Epoch 20/30\n",
      "7200/7200 [==============================] - 97s 13ms/step - loss: 0.1410 - acc: 0.5184 - val_loss: 1.0530 - val_acc: 0.4098\n",
      "Epoch 21/30\n",
      "7200/7200 [==============================] - 95s 13ms/step - loss: 0.1209 - acc: 0.5225 - val_loss: 1.0559 - val_acc: 0.4090\n",
      "Epoch 22/30\n",
      "7200/7200 [==============================] - 96s 13ms/step - loss: 0.1050 - acc: 0.5259 - val_loss: 1.0586 - val_acc: 0.4110\n",
      "Epoch 23/30\n",
      "7200/7200 [==============================] - 96s 13ms/step - loss: 0.0907 - acc: 0.5282 - val_loss: 1.0641 - val_acc: 0.4090\n",
      "Epoch 24/30\n",
      "7200/7200 [==============================] - 95s 13ms/step - loss: 0.0788 - acc: 0.5301 - val_loss: 1.0783 - val_acc: 0.4095\n",
      "Epoch 25/30\n",
      "7200/7200 [==============================] - 97s 13ms/step - loss: 0.0686 - acc: 0.5318 - val_loss: 1.0832 - val_acc: 0.4084\n",
      "Epoch 26/30\n",
      "7200/7200 [==============================] - 96s 13ms/step - loss: 0.0584 - acc: 0.5336 - val_loss: 1.0818 - val_acc: 0.4110\n",
      "Epoch 27/30\n",
      "7200/7200 [==============================] - 95s 13ms/step - loss: 0.0499 - acc: 0.5342 - val_loss: 1.1122 - val_acc: 0.4085\n",
      "Epoch 28/30\n",
      "7200/7200 [==============================] - 95s 13ms/step - loss: 0.0424 - acc: 0.5354 - val_loss: 1.0930 - val_acc: 0.4108\n",
      "Epoch 29/30\n",
      "7200/7200 [==============================] - 97s 13ms/step - loss: 0.0361 - acc: 0.5360 - val_loss: 1.0846 - val_acc: 0.4085\n",
      "Epoch 30/30\n",
      "7200/7200 [==============================] - 96s 13ms/step - loss: 0.0315 - acc: 0.5364 - val_loss: 1.1078 - val_acc: 0.4112\n"
     ]
    }
   ],
   "source": [
    "model.compile(optimizer='rmsprop', loss='categorical_crossentropy', metrics=['accuracy'])\n",
    "# training the model\n",
    "z = np.zeros((len(encoder_inputs), LATENT_DIM_DECODER)) # initial [s, c]\n",
    "r = model.fit(\n",
    "  [encoder_inputs, decoder_inputs, z, z], decoder_targets_one_hot,\n",
    "  batch_size=BATCH_SIZE,\n",
    "  epochs=EPOCHS,\n",
    "  validation_split=0.1\n",
    ")\n",
    "# model.save('seq2seq_source_target_with_attention.h5')"
   ]
  },
  {
   "cell_type": "markdown",
   "metadata": {},
   "source": [
    "Weights from encoder decoder will be used for for prediction i.e. translation of sentences"
   ]
  },
  {
   "cell_type": "code",
   "execution_count": 19,
   "metadata": {},
   "outputs": [],
   "source": [
    "encoder_model = Model(encoder_inputs_placeholder, encoder_outputs)\n",
    "\n",
    "encoder_outputs_as_input = Input(shape=(max_len_input, LATENT_DIM * 2,))\n",
    "decoder_inputs_single = Input(shape=(1,))\n",
    "decoder_inputs_single_x = decoder_embedding(decoder_inputs_single)\n",
    "\n",
    "context = one_step_attention(encoder_outputs_as_input, initial_s)\n",
    "\n",
    "decoder_lstm_input = context_last_word_concat_layer([context, decoder_inputs_single_x])\n",
    "\n",
    "o, s, c = decoder_lstm(decoder_lstm_input, initial_state=[initial_s, initial_c])\n",
    "decoder_outputs = decoder_dense(o)\n",
    "\n",
    "# create the model object\n",
    "decoder_model = Model(\n",
    "  inputs=[\n",
    "    decoder_inputs_single,\n",
    "    encoder_outputs_as_input,\n",
    "    initial_s, \n",
    "    initial_c\n",
    "  ],\n",
    "  outputs=[decoder_outputs, s, c]\n",
    ")\n",
    "\n",
    "idx2word_eng = {v:k for k, v in word2idx_inputs.items()}\n",
    "idx2word_trans = {v:k for k, v in word2idx_outputs.items()}\n",
    "\n",
    "def decode_sequence(input_seq):\n",
    "\n",
    "    enc_out = encoder_model.predict(input_seq)\n",
    "    target_seq = np.zeros((1, 1))\n",
    "    target_seq[0, 0] = word2idx_outputs['<bof>']\n",
    "    eos = word2idx_outputs['<eos>']\n",
    "    s = np.zeros((1, LATENT_DIM_DECODER))\n",
    "    c = np.zeros((1, LATENT_DIM_DECODER))\n",
    "\n",
    "    # Create the translation\n",
    "    output_sentence = []\n",
    "    for _ in range(max_len_target):\n",
    "        o, s, c = decoder_model.predict([target_seq, enc_out, s, c])\n",
    "        # Get next word\n",
    "        idx = np.argmax(o.flatten())\n",
    "\n",
    "        # check if end of sentence tag is generated for break\n",
    "        if eos == idx:\n",
    "          break\n",
    "\n",
    "        word = ''\n",
    "        if idx > 0:\n",
    "          word = idx2word_trans[idx]\n",
    "          output_sentence.append(word)\n",
    "        target_seq[0, 0] = idx\n",
    "\n",
    "    return ' '.join(output_sentence)"
   ]
  },
  {
   "cell_type": "markdown",
   "metadata": {},
   "source": [
    "BLEU score will be calculated for the test lines. Average bleu score is then evaluated."
   ]
  },
  {
   "cell_type": "code",
   "execution_count": 20,
   "metadata": {},
   "outputs": [
    {
     "name": "stdout",
     "output_type": "stream",
     "text": [
      "Average BLEU Score for Seq2Seq model with attention:  0.42138376218381657\n"
     ]
    }
   ],
   "source": [
    "avg = 0\n",
    "from nltk import bleu\n",
    "from nltk.translate.bleu_score import SmoothingFunction\n",
    "smoothing = SmoothingFunction()\n",
    "\n",
    "for i in range(len(encoder_tests)):\n",
    "    translation = decode_sequence(encoder_tests[i:i+1])\n",
    "    hyp = translation.split()\n",
    "    target_text = target_texts[int(0.8*len(input_texts))+i].split()\n",
    "    ref = target_text[:len(target_text)-1]\n",
    "    BLEUscore = bleu([ref], hyp, smoothing_function=smoothing.method2)\n",
    "    #print(hyp,ref,BLEUscore)\n",
    "    avg+=BLEUscore\n",
    "print(\"Average BLEU Score for Seq2Seq model with attention: \",avg/(i+1))"
   ]
  }
 ],
 "metadata": {
  "colab": {
   "collapsed_sections": [],
   "name": "Assignment2.ipynb",
   "provenance": []
  },
  "kernelspec": {
   "display_name": "Python 3",
   "language": "python",
   "name": "python3"
  },
  "language_info": {
   "codemirror_mode": {
    "name": "ipython",
    "version": 3
   },
   "file_extension": ".py",
   "mimetype": "text/x-python",
   "name": "python",
   "nbconvert_exporter": "python",
   "pygments_lexer": "ipython3",
   "version": "3.7.7"
  }
 },
 "nbformat": 4,
 "nbformat_minor": 1
}
